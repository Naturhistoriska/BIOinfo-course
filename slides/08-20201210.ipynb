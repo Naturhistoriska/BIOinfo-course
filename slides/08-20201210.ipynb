{
 "cells": [
  {
   "cell_type": "markdown",
   "metadata": {
    "slideshow": {
     "slide_type": "slide"
    }
   },
   "source": [
    "## Chapter 7 - Scientific Typesetting ($\\LaTeX$)\n",
    "\n",
    "#### A Geeky way of writing text"
   ]
  },
  {
   "cell_type": "markdown",
   "metadata": {
    "slideshow": {
     "slide_type": "slide"
    }
   },
   "source": [
    "# Today\n",
    "- Recap\n",
    "- How did you manage with Chapter 7?\n",
    "- What was difficult?\n",
    "- How did you solve the exercise?"
   ]
  },
  {
   "cell_type": "markdown",
   "metadata": {
    "slideshow": {
     "slide_type": "slide"
    }
   },
   "source": [
    "# Example: From LaTeX files to PDF"
   ]
  },
  {
   "cell_type": "markdown",
   "metadata": {
    "slideshow": {
     "slide_type": "slide"
    }
   },
   "source": [
    "## 1) Main file with text in LaTeX format\n",
    "\n",
    "File is split in two parts for visibility\n",
    "\n",
    "```latex\n",
    "% Here is a comment inside file Einstein.tex\n",
    "\n",
    "\\documentclass[12pt]{article} % Document class\n",
    "\\usepackage{natbib} % Handle references\n",
    "\\usepackage{graphicx} % Handle images\n",
    "\n",
    "\\title{Einstein's $e=mc^2$}\n",
    "\\author{Johan Nylander}\n",
    "\n",
    "```"
   ]
  },
  {
   "cell_type": "markdown",
   "metadata": {
    "slideshow": {
     "slide_type": "slide"
    }
   },
   "source": [
    "## 1) Main file with text in LaTeX format\n",
    "\n",
    "```latex\n",
    "\\begin{document}\n",
    "\\maketitle\n",
    "\n",
    "Here are some text, and here is a math formula, ``display'' style:\n",
    "\n",
    "\\begin{eqnarray*}\n",
    "{\\rm W} & = & \\int\\epsilon{\\rm X}\\,dx = m\\int_0^v\\beta^3v\\,dv\\\\\n",
    "        & = & mc^2\\left\\{\\frac{1}{\\sqrt{1-v^2/c^2}}-1\\right\\}. \\\\\n",
    "\\end{eqnarray*}\n",
    "\n",
    "We attribute this formula to \\cite{Einstein1905}.\n",
    "\n",
    "\\begin{center}\n",
    "    \\includegraphics[scale=0.5]{img/einstein}\n",
    "\\end{center}\n",
    "\n",
    "\\bibliographystyle{journal} % include journal.bst bib style\n",
    "\\bibliography{refs} % include refs.bib where I we have reference\n",
    "\n",
    "\\end{document}\n",
    "```"
   ]
  },
  {
   "cell_type": "markdown",
   "metadata": {
    "slideshow": {
     "slide_type": "skip"
    }
   },
   "source": [
    "```latex\n",
    "% Here is a comment inside file Einstein.tex\n",
    "\n",
    "\\documentclass[12pt]{article} % Document class\n",
    "\\usepackage{natbib} % Handle references\n",
    "\\usepackage{graphicx} % Handle images\n",
    "\n",
    "\\title{Einstein's $e=mc^2$}\n",
    "\\author{Johan Nylander}\n",
    "\n",
    "\\begin{document}\n",
    "\\maketitle\n",
    "\n",
    "Here are some text, and here is a math formula, ``display'' style:\n",
    "\n",
    "\\begin{eqnarray*}\n",
    "{\\rm W} & = & \\int\\epsilon{\\rm X}\\,dx = m\\int_0^v\\beta^3v\\,dv\\\\\n",
    "        & = & mc^2\\left\\{\\frac{1}{\\sqrt{1-v^2/c^2}}-1\\right\\}. \\\\\n",
    "\\end{eqnarray*}\n",
    "\n",
    "We attribute this formula to \\cite{Einstein1905}.\n",
    "\n",
    "\\begin{center}\n",
    "    \\includegraphics[scale=0.5]{img/einstein}\n",
    "\\end{center}\n",
    "\n",
    "\\bibliographystyle{journal} % include journal.bst bib style\n",
    "\\bibliography{refs} % include refs.bib where I we have reference\n",
    "\n",
    "\\end{document}\n",
    "```"
   ]
  },
  {
   "cell_type": "markdown",
   "metadata": {
    "slideshow": {
     "slide_type": "slide"
    }
   },
   "source": [
    "## The Main file imports a bibliography file (.bib) with references\n",
    "\n",
    "```bibtex\n",
    "@Article{Einstein1905,\n",
    "    author    = {Albert Einstein},\n",
    "    title     = {Zur {E}lektrodynamik bewegter {K}{\\\"o}rper},\n",
    "    journal   = {Annalen der Physik},\n",
    "    year      = 1905,\n",
    "    volume    = 17,\n",
    "    pages     = {891--921}\n",
    "}\n",
    "```"
   ]
  },
  {
   "cell_type": "markdown",
   "metadata": {
    "slideshow": {
     "slide_type": "slide"
    }
   },
   "source": [
    "## 3) The Main file also imports a bibliography style file (.sty)\n",
    "\n",
    "```\n",
    "% Many commands on how references in the bib file should be handled\n",
    "% ...\n",
    "```"
   ]
  },
  {
   "cell_type": "markdown",
   "metadata": {
    "slideshow": {
     "slide_type": "slide"
    }
   },
   "source": [
    "## We need to compile the .tex file!\n",
    "\n",
    "    $ pdflatex Einstein.tex\n",
    "    $ pdflatex Einstein.tex\n"
   ]
  },
  {
   "cell_type": "markdown",
   "metadata": {
    "slideshow": {
     "slide_type": "slide"
    }
   },
   "source": [
    "# Same command twice? Yes, silly isn't it?\n",
    "\n",
    "Helper script that will run the appropriate number of times\n",
    "\n",
    "```bash\n",
    "$ sudo apt install latexmk\n",
    "$ latexmk -pdf Einstein.tex\n",
    "```"
   ]
  },
  {
   "cell_type": "markdown",
   "metadata": {
    "slideshow": {
     "slide_type": "slide"
    }
   },
   "source": [
    "![](img/Einstein.pdf.png){width=80%}"
   ]
  },
  {
   "cell_type": "markdown",
   "metadata": {
    "slideshow": {
     "slide_type": "slide"
    }
   },
   "source": [
    "# Both Pros and Cons\n",
    "\n",
    "- \"It allows you to significantly change the layout of the document by making a few small changes to your source file\" (p. 221)\n",
    "\n",
    "- \"We should be able to focus on content, not layout\"\n",
    "\n",
    "- **BUT..., HOW ABOUT COLLABORATION?**\n"
   ]
  },
  {
   "cell_type": "markdown",
   "metadata": {
    "slideshow": {
     "slide_type": "slide"
    }
   },
   "source": [
    "# A Middle Ground: Markdown!\n",
    "\n",
    "```markdown\n",
    "# Title\n",
    "\n",
    "- Last modified: 2020-12-09\n",
    "- Sign: JN\n",
    "\n",
    "## Description\n",
    "\n",
    "A description of the *Markdown syntax* can be found here [link](https://www.markdownguide.org/basic-syntax/)\n",
    "\n",
    "```"
   ]
  },
  {
   "cell_type": "markdown",
   "metadata": {
    "slideshow": {
     "slide_type": "slide"
    }
   },
   "source": [
    "# You can mix Markdown, LaTeX, and html!\n",
    "\n",
    "```markdown\n",
    "\n",
    "# Header\n",
    "\n",
    "Here is an inline equation in \\LaTeX : $e=mc^2$\n",
    "\n",
    "## Second header\n",
    "\n",
    "And write a comment in html (not rendered in output):\n",
    "\n",
    "<!---\n",
    "your comment goes here\n",
    "and here\n",
    "-->\n",
    "\n",
    "And then insert an image:\n",
    "\n",
    "![Albert](img/Einstein.png){ width=50% }\n",
    "\n",
    "```"
   ]
  },
  {
   "cell_type": "markdown",
   "metadata": {
    "slideshow": {
     "slide_type": "slide"
    }
   },
   "source": [
    "# Convert your markdown to PDF\n",
    "\n",
    "```bash\n",
    "$ sudo apt install pandoc\n",
    "$ pandoc file.md -o file.pdf\n",
    "```"
   ]
  },
  {
   "cell_type": "markdown",
   "metadata": {
    "slideshow": {
     "slide_type": "slide"
    }
   },
   "source": [
    "![](img/file.pdf.png)"
   ]
  },
  {
   "cell_type": "markdown",
   "metadata": {
    "slideshow": {
     "slide_type": "slide"
    }
   },
   "source": [
    "## Convert Mardown to MS .docx\n",
    "```bash\n",
    "$ pandoc file.md -o file.docx\n",
    "```"
   ]
  },
  {
   "cell_type": "markdown",
   "metadata": {
    "slideshow": {
     "slide_type": "slide"
    }
   },
   "source": [
    "![](img/Einstein.docx.png)"
   ]
  },
  {
   "cell_type": "markdown",
   "metadata": {
    "slideshow": {
     "slide_type": "slide"
    }
   },
   "source": [
    "# Collaboration tools\n",
    "\n",
    "- [overleaf.com](https://www.overleaf.com/) -- For LaTeX. Non-free, but SU license\n",
    "\n",
    "- [hackMD.io](https://hackmd.io/) -- For Markdown. Free!"
   ]
  },
  {
   "cell_type": "markdown",
   "metadata": {
    "slideshow": {
     "slide_type": "slide"
    }
   },
   "source": [
    "# Assignment for next occasion (Dec 10, in one week)\n",
    "\n",
    "- Chapter 7. Scientific Typesetting (LaTeX)\n",
    "- **Use the Slack channels (<https://bioinfo-course-2020.slack.com>)!**\n"
   ]
  }
 ],
 "metadata": {
  "kernelspec": {
   "display_name": "Python 3",
   "language": "python",
   "name": "python3"
  },
  "language_info": {
   "codemirror_mode": {
    "name": "ipython",
    "version": 3
   },
   "file_extension": ".py",
   "mimetype": "text/x-python",
   "name": "python",
   "nbconvert_exporter": "python",
   "pygments_lexer": "ipython3",
   "version": "3.8.5"
  }
 },
 "nbformat": 4,
 "nbformat_minor": 4
}
