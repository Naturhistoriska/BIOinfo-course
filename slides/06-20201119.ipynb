{
 "cells": [
  {
   "cell_type": "markdown",
   "metadata": {
    "slideshow": {
     "slide_type": "slide"
    }
   },
   "source": [
    "# Chapter 5 - Regular Expressions\n",
    "\n",
    "### - Greatest thing since sliced bred"
   ]
  },
  {
   "cell_type": "code",
   "execution_count": null,
   "metadata": {
    "slideshow": {
     "slide_type": "slide"
    }
   },
   "outputs": [],
   "source": [
    "import re"
   ]
  },
  {
   "cell_type": "markdown",
   "metadata": {
    "slideshow": {
     "slide_type": "slide"
    }
   },
   "source": [
    "# Today\n",
    "- Recap\n",
    "- How did you manage with Chapter 5?\n",
    "- What was difficult?\n",
    "- How did you solve the exercises?"
   ]
  },
  {
   "cell_type": "markdown",
   "metadata": {
    "slideshow": {
     "slide_type": "slide"
    }
   },
   "source": [
    "# File `bee_list.txt`\n",
    "\n",
    "\n",
    "    $ head -4 bee_list.txt\n",
    "    Scientific Name\tTaxon Author\ttsn\n",
    "    Alocandrena porteri\tMichener, 1986\t752055\n",
    "    Ancylandrena atoposoma\t(Cockerell, 1934)\t654122\n",
    "    Ancylandrena koebelei\t(Timberlake, 1951)\t654123"
   ]
  },
  {
   "cell_type": "markdown",
   "metadata": {
    "slideshow": {
     "slide_type": "slide"
    }
   },
   "source": [
    "# Extract Year from `bee_list.txt`\n",
    "\n",
    "    Scientific Name\tTaxon Author\ttsn\n",
    "    Alocandrena porteri\tMichener, 1986\t752055\n",
    "    Ancylandrena atoposoma\t(Cockerell, 1934)\t654122\n",
    "    Ancylandrena koebelei\t(Timberlake, 1951)\t654123"
   ]
  },
  {
   "cell_type": "markdown",
   "metadata": {
    "slideshow": {
     "slide_type": "subslide"
    }
   },
   "source": [
    "Using `grep` \n",
    "\n",
    "    $ grep -P -o -w '\\d{4}' bee_list.txt\n"
   ]
  },
  {
   "cell_type": "markdown",
   "metadata": {
    "slideshow": {
     "slide_type": "subslide"
    }
   },
   "source": [
    "Using `awk`\n",
    "\n",
    "    $ awk 'match($0, /[0-9]{4}/) {print substr($0, RSTART, RLENGTH)}' bee_list.txt\n"
   ]
  },
  {
   "cell_type": "markdown",
   "metadata": {
    "slideshow": {
     "slide_type": "subslide"
    }
   },
   "source": [
    "Using `sed`\n",
    "\n",
    "    $ sed -r 's/([^0-9]*([0-9]*)){1}.*/\\2/' bee_list.txt\n"
   ]
  },
  {
   "cell_type": "markdown",
   "metadata": {
    "slideshow": {
     "slide_type": "subslide"
    }
   },
   "source": [
    "Using `perl`\n",
    "\n",
    "    $ perl -lne 'print $1 if /(\\d{4})/' bee_list.txt"
   ]
  },
  {
   "cell_type": "markdown",
   "metadata": {
    "slideshow": {
     "slide_type": "subslide"
    }
   },
   "source": [
    "Using `python`\n",
    "\n",
    "```python\n",
    "import re\n",
    "rexp = re.compile(r'\\(?[\\w\\s,\\.\\-\\&]*,\\s(\\d{4})\\)?')\n",
    "with open(\"bee_list.txt\", \"r\") as f:\n",
    "    for line in f:\n",
    "        match = rexp.search(line)\n",
    "        if match:\n",
    "            print(match.group(1))\n",
    "```"
   ]
  },
  {
   "cell_type": "markdown",
   "metadata": {
    "slideshow": {
     "slide_type": "subslide"
    }
   },
   "source": [
    "#### This didn't work for me\n",
    "\n",
    "```sh\n",
    "$ python -c \"import re,sys;print(re.search(r'(\\d{4})',sys.stdin.read()).group())\" < bee_list.txt\n",
    "```"
   ]
  },
  {
   "cell_type": "markdown",
   "metadata": {
    "slideshow": {
     "slide_type": "subslide"
    }
   },
   "source": [
    "#### Neither did this\n",
    "\n",
    "```sh\n",
    "$ python -c \"import sys,re;[sys.stdout.write(re.search(r'(\\d{4})',line).group(1)) for line in sys.stdin]\" < bee_list.txt\n",
    "```"
   ]
  },
  {
   "cell_type": "markdown",
   "metadata": {
    "slideshow": {
     "slide_type": "slide"
    }
   },
   "source": [
    "# 5.4.2 Metacharacters (p. 168)\n",
    "\n",
    "Add to the list:\n",
    "\n",
    "- `\\S` - not a white space (*cf.* `\\s`)\n",
    "\n",
    "- `\\W` - not a word character (*cf.* `\\w`, which is the set `[a-zA-Z0-9_]`).\n",
    "\n",
    "Much more info from `help(re)` in python."
   ]
  },
  {
   "cell_type": "markdown",
   "metadata": {
    "slideshow": {
     "slide_type": "slide"
    }
   },
   "source": [
    "# 5.4.3 Sets (p. 169) (See also p. 177)\n",
    "\n",
    "One way general approach to avoid (some) issues: **Use a middle step** (also known as XXXX)!\n",
    "\n",
    "Instead of:\n",
    "\n",
    "    re.search(r\"GATC\", my_unknown_DNA_string)\n",
    "    \n",
    "use a \"decorator\":\n",
    "\n",
    "    re.search(r\"GATC\", my_unknown_DNA_string.upper())"
   ]
  },
  {
   "cell_type": "markdown",
   "metadata": {
    "slideshow": {
     "slide_type": "slide"
    }
   },
   "source": [
    "# 5.4.4 Quantifiers (p. 171)\n",
    "\n",
    "Greedy vs non-greedy matching -- major source of error!"
   ]
  },
  {
   "cell_type": "code",
   "execution_count": null,
   "metadata": {
    "slideshow": {
     "slide_type": "slide"
    }
   },
   "outputs": [],
   "source": [
    "re.search(r\".*\\s\", \"once upon a time\").group()"
   ]
  },
  {
   "cell_type": "code",
   "execution_count": null,
   "metadata": {
    "slideshow": {
     "slide_type": "slide"
    }
   },
   "outputs": [],
   "source": [
    "re.search(r\".*?\\s\", \"once upon a time\").group()"
   ]
  },
  {
   "cell_type": "markdown",
   "metadata": {
    "slideshow": {
     "slide_type": "slide"
    }
   },
   "source": [
    "# 5.5 Functions of the `re` module (p.175)\n",
    "\n",
    "All examples up to here where used with `re.search()` --- and with matches!\n",
    "\n",
    "**Remember** if no match, `re.search()` returns `None`, an this character type does not have an attribute `.group()`:\n",
    "\n",
    "```sh\n",
    ">>> match.group()\n",
    "Traceback (most recent call last):\n",
    "  File \"<stdin>\", line 1, in <module>\n",
    "AttributeError: 'NoneType' object has no attribute 'group'\n",
    "```"
   ]
  },
  {
   "cell_type": "markdown",
   "metadata": {
    "slideshow": {
     "slide_type": "subslide"
    }
   },
   "source": [
    "# 5.5 Functions of the `re` module (p.175)\n",
    "\n",
    "**Test** if you got a match. For example:\n",
    "\n",
    "```python\n",
    "my_match = re.search(reg, target_string)\n",
    "if my_match:\n",
    "    print(my_match.group())\n",
    "```"
   ]
  },
  {
   "cell_type": "markdown",
   "metadata": {
    "slideshow": {
     "slide_type": "subslide"
    }
   },
   "source": [
    "# 5.5 Functions of the `re` module (p.175)\n",
    "\n",
    "Similar issue with `re.findall()`. It returns a list (empty or not):\n",
    "\n",
    "```python\n",
    "my_list = re.findall(r'Pepes bodega', my_DNA_string)\n",
    "if my_list:\n",
    "    # do something\n",
    "```"
   ]
  },
  {
   "cell_type": "markdown",
   "metadata": {
    "slideshow": {
     "slide_type": "subslide"
    }
   },
   "source": [
    "# 5.5 Functions of the `re` module (p.175)\n",
    "\n",
    "`re.finditer()` on the other hand, returns a \"callable_iterator object\" (which may be empty or not), but the object does not evaluate to `False` or `None`.\n",
    "\n",
    "```python\n",
    "my_iter = re.finditer(r'Pepes bodega', my_DNA_string)\n",
    "if my_iter: # This will be True even without a match!\n",
    "    # do something\n",
    "```"
   ]
  },
  {
   "cell_type": "markdown",
   "metadata": {
    "slideshow": {
     "slide_type": "subslide"
    }
   },
   "source": [
    "One solution: Cast the iterable to a list, AND, do a copy before calling `len()`!\n",
    "\n",
    "```python\n",
    "my_iter = re.finditer(r'Pepes bodega', r'ACGTACGT')\n",
    "my_iter = list(my_iter) # This is needed since len() \"consumes\" the iterable!\n",
    "if len(list(my_iter)):\n",
    "    for i in my_iter:\n",
    "        print(i.group())\n",
    "else:\n",
    "    print(\"No match found\")\n",
    "```\n",
    "\n",
    "(See <https://stackoverflow.com/questions/12351475/regular-expression-callable-iterator-get-length/12351496>)"
   ]
  },
  {
   "cell_type": "code",
   "execution_count": 59,
   "metadata": {
    "slideshow": {
     "slide_type": "subslide"
    }
   },
   "outputs": [
    {
     "name": "stdout",
     "output_type": "stream",
     "text": [
      "No match found\n"
     ]
    }
   ],
   "source": [
    "my_iter = re.finditer(r'Pepes bodega', r'ACGTACGT')\n",
    "my_iter = list(my_iter) # This is needed since len() \"consumes\" the iterable!\n",
    "if len(list(my_iter)):\n",
    "    for i in my_iter:\n",
    "        print(i.group())\n",
    "else:\n",
    "    print(\"No match found\")"
   ]
  },
  {
   "cell_type": "code",
   "execution_count": 60,
   "metadata": {
    "slideshow": {
     "slide_type": "subslide"
    }
   },
   "outputs": [
    {
     "name": "stdout",
     "output_type": "stream",
     "text": [
      "ACGT\n",
      "ACGT\n"
     ]
    }
   ],
   "source": [
    "my_iter = re.finditer(r'ACGT', r'ACGTACGT')\n",
    "my_iter = list(my_iter) # This is needed since len() \"consumes\" the iterable!\n",
    "if len(my_iter):\n",
    "    for i in my_iter:\n",
    "        print(i.group())\n",
    "else:\n",
    "    print(\"No match found\")"
   ]
  },
  {
   "cell_type": "code",
   "execution_count": 61,
   "metadata": {
    "slideshow": {
     "slide_type": "subslide"
    }
   },
   "outputs": [
    {
     "ename": "TypeError",
     "evalue": "object of type 'callable_iterator' has no len()",
     "output_type": "error",
     "traceback": [
      "\u001b[0;31m---------------------------------------------------------------------------\u001b[0m",
      "\u001b[0;31mTypeError\u001b[0m                                 Traceback (most recent call last)",
      "\u001b[0;32m<ipython-input-61-a71851ba4544>\u001b[0m in \u001b[0;36m<module>\u001b[0;34m\u001b[0m\n\u001b[1;32m      1\u001b[0m \u001b[0mmy_iter\u001b[0m \u001b[0;34m=\u001b[0m \u001b[0mre\u001b[0m\u001b[0;34m.\u001b[0m\u001b[0mfinditer\u001b[0m\u001b[0;34m(\u001b[0m\u001b[0;34mr'ACGT'\u001b[0m\u001b[0;34m,\u001b[0m \u001b[0;34mr'ACGTACGT'\u001b[0m\u001b[0;34m)\u001b[0m\u001b[0;34m\u001b[0m\u001b[0;34m\u001b[0m\u001b[0m\n\u001b[1;32m      2\u001b[0m \u001b[0;31m#my_iter = list(my_iter) # This is needed since len() \"consumes\" the iterable!\u001b[0m\u001b[0;34m\u001b[0m\u001b[0;34m\u001b[0m\u001b[0;34m\u001b[0m\u001b[0m\n\u001b[0;32m----> 3\u001b[0;31m \u001b[0;32mif\u001b[0m \u001b[0mlen\u001b[0m\u001b[0;34m(\u001b[0m\u001b[0mmy_iter\u001b[0m\u001b[0;34m)\u001b[0m\u001b[0;34m:\u001b[0m\u001b[0;34m\u001b[0m\u001b[0;34m\u001b[0m\u001b[0m\n\u001b[0m\u001b[1;32m      4\u001b[0m     \u001b[0;32mfor\u001b[0m \u001b[0mi\u001b[0m \u001b[0;32min\u001b[0m \u001b[0mmy_iter\u001b[0m\u001b[0;34m:\u001b[0m\u001b[0;34m\u001b[0m\u001b[0;34m\u001b[0m\u001b[0m\n\u001b[1;32m      5\u001b[0m         \u001b[0mprint\u001b[0m\u001b[0;34m(\u001b[0m\u001b[0mi\u001b[0m\u001b[0;34m.\u001b[0m\u001b[0mgroup\u001b[0m\u001b[0;34m(\u001b[0m\u001b[0;34m)\u001b[0m\u001b[0;34m)\u001b[0m\u001b[0;34m\u001b[0m\u001b[0;34m\u001b[0m\u001b[0m\n",
      "\u001b[0;31mTypeError\u001b[0m: object of type 'callable_iterator' has no len()"
     ]
    }
   ],
   "source": [
    "my_iter = re.finditer(r'ACGT', r'ACGTACGT')\n",
    "#my_iter = list(my_iter) # This is needed since len() \"consumes\" the iterable!\n",
    "if len(my_iter):\n",
    "    for i in my_iter:\n",
    "        print(i.group())\n",
    "else:\n",
    "    print(\"No match found\")"
   ]
  },
  {
   "cell_type": "code",
   "execution_count": 62,
   "metadata": {
    "slideshow": {
     "slide_type": "subslide"
    }
   },
   "outputs": [
    {
     "name": "stdout",
     "output_type": "stream",
     "text": [
      "2\n"
     ]
    },
    {
     "data": {
      "text/plain": [
       "0"
      ]
     },
     "execution_count": 62,
     "metadata": {},
     "output_type": "execute_result"
    }
   ],
   "source": [
    "my_iter = re.finditer(r'ACGT', r'ACGTACGT')\n",
    "print(len(list(my_iter)))\n",
    "len(list(my_iter))"
   ]
  },
  {
   "cell_type": "code",
   "execution_count": 63,
   "metadata": {
    "slideshow": {
     "slide_type": "subslide"
    }
   },
   "outputs": [
    {
     "name": "stdout",
     "output_type": "stream",
     "text": [
      "2\n"
     ]
    },
    {
     "data": {
      "text/plain": [
       "[<re.Match object; span=(0, 4), match='ACGT'>,\n",
       " <re.Match object; span=(4, 8), match='ACGT'>]"
      ]
     },
     "execution_count": 63,
     "metadata": {},
     "output_type": "execute_result"
    }
   ],
   "source": [
    "my_iter = re.finditer(r'ACGT', r'ACGTACGT')\n",
    "my_iter = list(my_iter)\n",
    "print(len(my_iter))\n",
    "my_iter"
   ]
  },
  {
   "cell_type": "markdown",
   "metadata": {
    "slideshow": {
     "slide_type": "slide"
    }
   },
   "source": [
    "# 5.5 Functions of the `re` module (p.175)\n",
    "\n",
    "Compare\n",
    "```python\n",
    "re.sub(reg, repl, target_string)\n",
    "```\n",
    "\n",
    "with\n",
    "```\n",
    "target_string.replace(search, repl) # replace doesn't take a regular expression\n",
    "```"
   ]
  },
  {
   "cell_type": "markdown",
   "metadata": {
    "slideshow": {
     "slide_type": "slide"
    }
   },
   "source": [
    "# 5.6 Groups in Regular Expressions (p. 180)\n",
    "\n",
    "```python\n",
    "import re\n",
    "rexp = re.compile(r'\\(?[\\w\\s,\\.\\-\\&]*,\\s(\\d{4})\\)?')\n",
    "with open(\"bee_list.txt\", \"r\") as f:\n",
    "    for line in f:\n",
    "        match = rexp.search(line)\n",
    "        if m:\n",
    "            print(m.group(1))\n",
    "        match = re.findall(r'something', line)[0]\n"
   ]
  },
  {
   "cell_type": "markdown",
   "metadata": {
    "slideshow": {
     "slide_type": "slide"
    }
   },
   "source": [
    "# 5.7 Verbose Regular Expressions and 5.8 The Quest for the Perfect Regular Expression (p. 181)\n",
    "\n",
    "\n",
    "\n",
    "How often have you filled a web form with, say, your personal ID number, only to be greeted with the message saying: \"This is not a valid personal ID number\"?\n",
    "\n",
    "The example for a pattern to match a (US) Zip code is non-exhaustive. As it stands, it handles three cases. \n",
    "\n",
    "```python\n",
    "60637\n",
    "60637 1503\n",
    "60637-1503\n",
    "```\n",
    "\n",
    "How would you have made it better?"
   ]
  },
  {
   "cell_type": "markdown",
   "metadata": {
    "slideshow": {
     "slide_type": "slide"
    }
   },
   "source": [
    "# 5.7 Verbose Regular Expressions and 5.8 The Quest for the Perfect Regular Expression (p. 181)\n",
    "\n",
    "What about?\n",
    "\n",
    "```python\n",
    "60637 -1503\n",
    "60637- 1503\n",
    "60637 - 1503\n",
    "60637-\n",
    "...\n",
    "```"
   ]
  },
  {
   "cell_type": "markdown",
   "metadata": {
    "slideshow": {
     "slide_type": "slide"
    }
   },
   "source": [
    "# \"Never underestimate the imagination of the user!\"\n",
    "\n",
    "![](img/User_interactive.png)"
   ]
  },
  {
   "cell_type": "markdown",
   "metadata": {
    "slideshow": {
     "slide_type": "slide"
    }
   },
   "source": [
    "# Assignment for next occasion (Dec 03, in two weeks)\n",
    "\n",
    "- Chapter 6. Scientific Computing (Python)\n",
    "- **Use the Slack channels (<https://bioinfo-course-2020.slack.com>)!**\n"
   ]
  }
 ],
 "metadata": {
  "kernelspec": {
   "display_name": "Python 3",
   "language": "python",
   "name": "python3"
  },
  "language_info": {
   "codemirror_mode": {
    "name": "ipython",
    "version": 3
   },
   "file_extension": ".py",
   "mimetype": "text/x-python",
   "name": "python",
   "nbconvert_exporter": "python",
   "pygments_lexer": "ipython3",
   "version": "3.8.5"
  }
 },
 "nbformat": 4,
 "nbformat_minor": 4
}
