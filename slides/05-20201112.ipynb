{
 "cells": [
  {
   "cell_type": "markdown",
   "metadata": {
    "slideshow": {
     "slide_type": "slide"
    }
   },
   "source": [
    "# Chapter 4 - Writing Good Code\n",
    "\n",
    "### - You better learn these topics early, than (too) late!"
   ]
  },
  {
   "cell_type": "markdown",
   "metadata": {
    "slideshow": {
     "slide_type": "slide"
    }
   },
   "source": [
    "# Today\n",
    "- Recap\n",
    "- How did you manage with Chapter 4?\n",
    "- What was difficult?\n",
    "- How did you solve the exercises?"
   ]
  },
  {
   "cell_type": "markdown",
   "metadata": {
    "slideshow": {
     "slide_type": "slide"
    }
   },
   "source": [
    "# Topics\n",
    "\n",
    "- Functions\n",
    "- Modules, packages (libraries)\n",
    "- Writing style\n",
    "- Handling errors\n",
    "- Debugging\n",
    "- Unit testing\n",
    "- Profiling"
   ]
  },
  {
   "cell_type": "markdown",
   "metadata": {
    "slideshow": {
     "slide_type": "slide"
    }
   },
   "source": [
    "# 4.2.1 Writing Functions (p. 121-122)\n",
    "\n",
    "Use a clear, and \"non-lazy\" `return` as the last line of a function. "
   ]
  },
  {
   "cell_type": "markdown",
   "metadata": {
    "slideshow": {
     "slide_type": "slide"
    }
   },
   "source": [
    "# 4.2.1 Writing Functions (p. 121-122)\n",
    "\n",
    "For example, the last line of the function GCcontent, instead of:\n",
    "\n",
    "```python\n",
    "return (numG + numC) / (numA + numC + numG + numT)\n",
    "```\n",
    "I would write:\n",
    "\n",
    "```python\n",
    "gc_content = (numG + numC) / (numA + numC + numG + numT)\n",
    "\n",
    "return gc_content\n",
    "```\n",
    "\n",
    "That is, return a variable, not an expression."
   ]
  },
  {
   "cell_type": "markdown",
   "metadata": {
    "slideshow": {
     "slide_type": "slide"
    }
   },
   "source": [
    "# 4.2.2 Importing Packages and Modules (p. 126)\n",
    "\n",
    "Add to the examples on p. 127:\n",
    "\n",
    "```python\n",
    "from some_module import some_function as foo\n",
    "```\n",
    "\n",
    "This is useful if two modules named `some_function` are\n",
    "to be imported or if `some_function` is an inconveniently\n",
    "long name."
   ]
  },
  {
   "cell_type": "markdown",
   "metadata": {
    "slideshow": {
     "slide_type": "slide"
    }
   },
   "source": [
    "# 4.2.3 Program structure (p. 127)"
   ]
  },
  {
   "cell_type": "code",
   "execution_count": 4,
   "metadata": {
    "jupyter": {
     "source_hidden": true
    },
    "slideshow": {
     "slide_type": "skip"
    }
   },
   "outputs": [],
   "source": [
    "import scipy"
   ]
  },
  {
   "cell_type": "code",
   "execution_count": 5,
   "metadata": {
    "jupyter": {
     "source_hidden": true
    },
    "slideshow": {
     "slide_type": "skip"
    }
   },
   "outputs": [],
   "source": [
    "def build_population(N, p):\n",
    "    \"\"\"The population consists of N individuals. \n",
    "       Each individual has two chromosomes, containing\n",
    "       allele \"A\" or \"a\", with probability p and 1-p, \n",
    "       respectively.\n",
    "\n",
    "       The population is a list of tuples.\n",
    "    \"\"\"\n",
    "    population = []\n",
    "    for i in range(N):\n",
    "        allele1 = \"A\"\n",
    "        if scipy.random.rand() > p:\n",
    "            allele1 = \"a\"\n",
    "        allele2 = \"A\"\n",
    "        if scipy.random.rand() > p:\n",
    "            allele2 = \"a\"\n",
    "        population.append((allele1, allele2))\n",
    "    return population"
   ]
  },
  {
   "cell_type": "code",
   "execution_count": 6,
   "metadata": {
    "jupyter": {
     "source_hidden": true
    },
    "slideshow": {
     "slide_type": "skip"
    }
   },
   "outputs": [],
   "source": [
    "def compute_frequencies(population):\n",
    "    \"\"\" Count the genotypes.\n",
    "        Returns a dictionary with counts for each genotype.\n",
    "    \"\"\"\n",
    "    AA = population.count((\"A\", \"A\"))\n",
    "    Aa = population.count((\"A\", \"a\"))\n",
    "    aA = population.count((\"a\", \"A\"))\n",
    "    aa = population.count((\"a\", \"a\"))\n",
    "    return({\"AA\": AA,\n",
    "            \"aa\": aa,\n",
    "            \"Aa\": Aa,\n",
    "            \"aA\": aA})"
   ]
  },
  {
   "cell_type": "code",
   "execution_count": 7,
   "metadata": {
    "jupyter": {
     "source_hidden": true
    },
    "slideshow": {
     "slide_type": "skip"
    }
   },
   "outputs": [],
   "source": [
    "def reproduce_population(population):\n",
    "    \"\"\" Create a new generation through sexual reproduction\n",
    "        For each of N new offspring:\n",
    "        - Choose the parents at random\n",
    "        - The offspring receives a chromosomes from each of the parents\n",
    "    \"\"\"\n",
    "    new_generation = []\n",
    "    N = len(population)\n",
    "    for i in range(N):\n",
    "        dad = scipy.random.randint(N)  # random integer between 0 and N-1\n",
    "        mom = scipy.random.randint(N)\n",
    "        chr_mom = scipy.random.randint(2)  # which chromosome comes from mom\n",
    "        offspring = (population[mom][chr_mom], population[dad][1 - chr_mom])\n",
    "        new_generation.append(offspring)\n",
    "    return(new_generation)"
   ]
  },
  {
   "cell_type": "code",
   "execution_count": 8,
   "metadata": {
    "slideshow": {
     "slide_type": "slide"
    }
   },
   "outputs": [],
   "source": [
    "# Code on pp. 131-132, CSB\n",
    "def simulate_drift(N, p):\n",
    "    my_pop = build_population(N, p)\n",
    "    fixation = False\n",
    "    num_generations = 0\n",
    "    while fixation == False:\n",
    "        genotype_counts = compute_frequencies(my_pop)\n",
    "        if genotype_counts[\"AA\"] == N or genotype_counts[\"aa\"] == N:\n",
    "            print(\"Fixation at gen\", num_generations)\n",
    "            print(\"Counts\")\n",
    "            print(genotype_counts)\n",
    "            fixation == True\n",
    "            break\n",
    "        my_pop = reproduce_population(my_pop)\n",
    "        num_generations = num_generations + 1"
   ]
  },
  {
   "cell_type": "code",
   "execution_count": 35,
   "metadata": {
    "slideshow": {
     "slide_type": "skip"
    }
   },
   "outputs": [
    {
     "name": "stdout",
     "output_type": "stream",
     "text": [
      "Fixation at gen 193\n",
      "Counts\n",
      "{'AA': 100, 'aa': 0, 'Aa': 0, 'aA': 0}\n"
     ]
    }
   ],
   "source": [
    "N = 100\n",
    "p = 0.5\n",
    "\n",
    "simulate_drift(N, p)"
   ]
  },
  {
   "cell_type": "markdown",
   "metadata": {
    "slideshow": {
     "slide_type": "slide"
    }
   },
   "source": [
    "# 4.3 Writing Style (p. 133)\n",
    "\n",
    "**The days are over when we could claim that \"writing style is personal\".**\n",
    "\n",
    "Science of today should follow the highest standards, and should be *reproducible*.\n",
    "\n",
    "Reproducibility means that the code should be reported together with the results; it needs to be understood by others!"
   ]
  },
  {
   "cell_type": "markdown",
   "metadata": {
    "slideshow": {
     "slide_type": "slide"
    }
   },
   "source": [
    "# 4.3 Writing Style (p. 133)\n",
    "\n",
    "Coding guides:\n",
    "\n",
    "<https://www.python.org/dev/peps/pep-0008/>\n",
    "\n",
    "<https://github.com/google/styleguide/blob/gh-pages/pyguide.md>\n",
    "\n",
    "**Start reding today, before you get too many bad coding-habits!**"
   ]
  },
  {
   "cell_type": "markdown",
   "metadata": {
    "slideshow": {
     "slide_type": "slide"
    }
   },
   "source": [
    "# The shebang for python (p. 136)\n",
    "\n",
    "The preferred \"shebang\" to safely include the python binary is\n",
    "\n",
    "```sh\n",
    "#!/usr/bin/env  python3\n",
    "```\n",
    "(Not `#!/usr/bin/python3`)\n"
   ]
  },
  {
   "cell_type": "code",
   "execution_count": null,
   "metadata": {
    "slideshow": {
     "slide_type": "slide"
    }
   },
   "outputs": [],
   "source": [
    "#!/usr/bin/env python3\n",
    "\n",
    "# -*- coding: utf-8 -*-\n",
    "# vim:fenc=utf-8\n",
    "#\n",
    "# Copyright © 2020 Johan Nylander <johan.nylander@nrm.se>\n",
    "# Distributed under terms of the MIT license.\n",
    "\n",
    "\"\"\"\n",
    "Run drift simulation from CSB book, Ch. 4, p. 136\n",
    "\n",
    "Usage: simulate_drift.py 100 0.1\n",
    "\n",
    "First argument (integer) is population size,\n",
    "second argument (float) is the probability of \n",
    "receiving allele 'A' (and prob 'a' = 1 - p).\n",
    "\n",
    "\"\"\"\n",
    "\n",
    "import sys\n",
    "import drift\n",
    "\n",
    "def simulate_drift(N, p):\n",
    "    my_pop = drift.build_population(N, p)\n",
    "    fixation = False\n",
    "    num_generations = 0\n",
    "    while fixation == False:\n",
    "        genotype_counts = drift.compute_frequencies(my_pop)\n",
    "        print(genotype_counts)\n",
    "        if genotype_counts[\"AA\"] == N or genotype_counts[\"aa\"] == N:\n",
    "            print(\"Fixation reached at gen\", num_generations)\n",
    "            fixation = True\n",
    "        my_pop = drift.reproduce_population(my_pop)\n",
    "        num_generations = num_generations + 1\n",
    "\n",
    "if __name__ == \"__main__\":\n",
    "    N = int(sys.argv[1])\n",
    "    p = float(sys.argv[2])\n",
    "    simulate_drift(N, p)"
   ]
  },
  {
   "cell_type": "markdown",
   "metadata": {
    "slideshow": {
     "slide_type": "slide"
    }
   },
   "source": [
    "# The shebang for python (p. 136)\n",
    "\n",
    "To locate the path to your current `python3` (or `python`) binary, use\n",
    "\n",
    "```sh\n",
    "which python3\n",
    "```\n",
    "(Not `whereis` as recommended on p. 136.)"
   ]
  },
  {
   "cell_type": "code",
   "execution_count": null,
   "metadata": {
    "slideshow": {
     "slide_type": "slide"
    }
   },
   "outputs": [],
   "source": [
    "#!/usr/bin/env -S python3 -B\n",
    "\n",
    "# -*- coding: utf-8 -*-\n",
    "# vim:fenc=utf-8\n",
    "#\n",
    "# Copyright © 2020 Johan Nylander <johan.nylander@nrm.se>\n",
    "# Distributed under terms of the MIT license.\n",
    "\n",
    "\"\"\"\n",
    "Run drift simulation from CSB book, Ch. 4, p. 136\n",
    "\n",
    "Usage: simulate_drift.py 100 0.1\n",
    "\n",
    "First argument (integer) is population size,\n",
    "second argument (float) is the probability of \n",
    "receiving allele 'A' (and prob 'a' = 1 - p).\n",
    "\n",
    "\"\"\"\n",
    "\n",
    "import sys\n",
    "import drift\n",
    "\n",
    "def simulate_drift(N, p):\n",
    "    my_pop = drift.build_population(N, p)\n",
    "    fixation = False\n",
    "    num_generations = 0\n",
    "    while fixation == False:\n",
    "        genotype_counts = drift.compute_frequencies(my_pop)\n",
    "        print(genotype_counts)\n",
    "        if genotype_counts[\"AA\"] == N or genotype_counts[\"aa\"] == N:\n",
    "            print(\"Fixation reached at gen\", num_generations)\n",
    "            fixation = True\n",
    "        my_pop = drift.reproduce_population(my_pop)\n",
    "        num_generations = num_generations + 1\n",
    "\n",
    "if __name__ == \"__main__\":\n",
    "    N = int(sys.argv[1])\n",
    "    p = float(sys.argv[2])\n",
    "    simulate_drift(N, p)"
   ]
  },
  {
   "cell_type": "markdown",
   "metadata": {
    "slideshow": {
     "slide_type": "slide"
    }
   },
   "source": [
    "# 4.5.1 Handling Exceptions (p. 139)\n",
    "\n",
    "See list of predefined python exceptions on <https://docs.python.org/3/library/exceptions.html>"
   ]
  },
  {
   "cell_type": "code",
   "execution_count": null,
   "metadata": {
    "slideshow": {
     "slide_type": "slide"
    }
   },
   "outputs": [],
   "source": [
    "y = 16.0\n",
    "x = 0.0\n",
    "try:\n",
    "    print(y / x)\n",
    "except ZeroDivisionError:\n",
    "    print(\"cannot divide by 0\")\n",
    "    \n",
    "print(\"I'm done\")"
   ]
  },
  {
   "cell_type": "code",
   "execution_count": null,
   "metadata": {
    "slideshow": {
     "slide_type": "slide"
    }
   },
   "outputs": [],
   "source": [
    "y = 16.0\n",
    "x = 'apa'\n",
    "try:\n",
    "    print(y / x)\n",
    "except ZeroDivisionError:\n",
    "    print(\"cannot divide by 0\")\n",
    "    \n",
    "print(\"I'm done\")"
   ]
  },
  {
   "cell_type": "code",
   "execution_count": null,
   "metadata": {
    "slideshow": {
     "slide_type": "slide"
    }
   },
   "outputs": [],
   "source": [
    "y = 16.0\n",
    "x = 0.0\n",
    "try:\n",
    "    print(y / x)\n",
    "except:\n",
    "    raise\n",
    "    \n",
    "print(\"I'm done\")"
   ]
  },
  {
   "cell_type": "code",
   "execution_count": null,
   "metadata": {
    "slideshow": {
     "slide_type": "slide"
    }
   },
   "outputs": [],
   "source": [
    "y = 16.0\n",
    "x = 'apa'\n",
    "try:\n",
    "    print(y / x)\n",
    "except:\n",
    "    raise\n",
    "    \n",
    "print(\"I'm done\")"
   ]
  },
  {
   "cell_type": "markdown",
   "metadata": {
    "slideshow": {
     "slide_type": "slide"
    }
   },
   "source": [
    "# Keyword `None` (p. 140)\n",
    "\n",
    "The book introduces the keyword `None` on page 140.\n",
    "\n",
    "The `None` keyword is used to define a null value, or no value at all.\n",
    "\n",
    "```python\n",
    "def foo(a, b=None):\n",
    "    if b is None:\n",
    "        b = ...\n",
    "```"
   ]
  },
  {
   "cell_type": "markdown",
   "metadata": {
    "slideshow": {
     "slide_type": "slide"
    }
   },
   "source": [
    "# Returning `None` (p. 140 and p. 143)\n",
    "\n",
    "If no other value is returned by a function in python, `None` is returned automatically.\n",
    "\n",
    "The code on p. 140 (and p. 143) should not have returned `None` if the distribution wasn't one of \"uniform\" or \"normal\", but rather raised and exception:\n",
    "\n",
    "```python\n",
    "if distribution == \"uniform\":\n",
    "    ...\n",
    "elif distribution == \"normal\"\n",
    "    ...\n",
    "else:\n",
    "    raise ValueError(\"Unknown distribution. Quitting...\")\n",
    "```"
   ]
  },
  {
   "cell_type": "code",
   "execution_count": null,
   "metadata": {
    "slideshow": {
     "slide_type": "slide"
    }
   },
   "outputs": [],
   "source": [
    "from numpy.random import normal\n",
    "from numpy.random import uniform\n",
    "from math import sqrt\n",
    "\n",
    "def get_expected_sqrt_x(distribution = \"uniform\",\n",
    "                        par1 = 0,\n",
    "                        par2 = 1,\n",
    "                        sample_size = 10):\n",
    "    total = 0.0\n",
    "    for i in range(sample_size):\n",
    "        if distribution == \"uniform\":\n",
    "            z = uniform(par1, par2, 1)\n",
    "        elif distribution == \"normal\":\n",
    "            z = normal(par1, par2, 1)\n",
    "        else:\n",
    "            #print(\"Unknown distribution. Quitting...\")\n",
    "            #return None\n",
    "            raise ValueError(\"Unknown distribution. Quitting...\")\n",
    "        total = total + sqrt(abs(z))\n",
    "    return total / sample_size\n"
   ]
  },
  {
   "cell_type": "code",
   "execution_count": null,
   "metadata": {},
   "outputs": [],
   "source": [
    "x = get_expected_sqrt_x(distribution=\"geometric\", sample_size=10)\n",
    "print(x)"
   ]
  },
  {
   "cell_type": "markdown",
   "metadata": {
    "slideshow": {
     "slide_type": "slide"
    }
   },
   "source": [
    "# Intermezzo 4.2 (p. 145)"
   ]
  },
  {
   "cell_type": "code",
   "execution_count": null,
   "metadata": {},
   "outputs": [],
   "source": [
    "import pickle\n",
    "#import pdb\n",
    "\n",
    "# load dictionary with genetic code from pickle file\n",
    "pickle_file = \"/home/nylander/Documents/Projects/GIT/BIOinfo-course/CSB/good_code/data/genetic_code.pickle\"\n",
    "genetic_code = pickle.load(open(pickle_file, \"rb\"))\n",
    "\n",
    "test_mRNA = \"AUGGAAUUCUCGCUCUGAAGGUAA\"\n",
    "\n",
    "# we want:   M   E   F   S   L   *\n",
    "#            AUG GAA UUC UCG CUC UGA AGG UAA\n",
    "#\n",
    "# we see:    M     N     L     L     E     V\n",
    "#            AUG G AAU U CUC G CUC U GAA G GUA A\n",
    "#                ^     ^     ^     ^     ^\n",
    "\n",
    "def get_amino_acids(mRNA):\n",
    "    i = 0\n",
    "    aa_sequence = []\n",
    "    while (i + 3) < len(mRNA):\n",
    "        codon = mRNA[i:(i + 3)]\n",
    "        aa = genetic_code[codon]\n",
    "        if aa == \"Stop\":\n",
    "            break\n",
    "        else:\n",
    "            aa_sequence.append(aa)\n",
    "        # advance to the next codon\n",
    "        i = i + 4\n",
    "        #pdb.set_trace()\n",
    "    return \"\".join(aa_sequence)\n",
    "\n",
    "print(get_amino_acids(test_mRNA))\n",
    "# problem: the program returns MNLLEV instead of MEFSL!"
   ]
  },
  {
   "cell_type": "markdown",
   "metadata": {
    "slideshow": {
     "slide_type": "slide"
    }
   },
   "source": [
    "# 4.9.3 Copying Objects (p. 158)\n",
    "\n",
    "A common pitfall in python. Just make sure to check out the example on pp. 158-159."
   ]
  },
  {
   "cell_type": "code",
   "execution_count": 3,
   "metadata": {
    "slideshow": {
     "slide_type": "slide"
    }
   },
   "outputs": [
    {
     "name": "stdout",
     "output_type": "stream",
     "text": [
      "a before appending: [1, 2, 3]\n",
      "b before appending to a: [1, 2, 3]\n",
      "a after appending: [1, 2, 3, 4]\n",
      "b after appending to a: [1, 2, 3, 4]\n"
     ]
    }
   ],
   "source": [
    "a = [1, 2, 3]\n",
    "b = a\n",
    "\n",
    "print(\"a before appending:\", a)\n",
    "print(\"b before appending to a:\", b)\n",
    "\n",
    "a.append(4)\n",
    "\n",
    "print(\"a after appending:\", a)\n",
    "print(\"b after appending to a:\", b)"
   ]
  },
  {
   "cell_type": "markdown",
   "metadata": {
    "slideshow": {
     "slide_type": "slide"
    }
   },
   "source": [
    "# 4.10 Exercises (p. 161)\n",
    "\n",
    "![](img/taxa-p.png)"
   ]
  },
  {
   "cell_type": "code",
   "execution_count": null,
   "metadata": {},
   "outputs": [],
   "source": []
  },
  {
   "cell_type": "markdown",
   "metadata": {
    "slideshow": {
     "slide_type": "slide"
    }
   },
   "source": [
    "# Assignment for next occasion (Nov 19, in one week!)\n",
    "\n",
    "- Chapter 5. Regular Expressions (Python)\n",
    "- **Use the Slack channels (<https://bioinfo-course-2020.slack.com>)!**\n"
   ]
  }
 ],
 "metadata": {
  "kernelspec": {
   "display_name": "Python 3",
   "language": "python",
   "name": "python3"
  },
  "language_info": {
   "codemirror_mode": {
    "name": "ipython",
    "version": 3
   },
   "file_extension": ".py",
   "mimetype": "text/x-python",
   "name": "python",
   "nbconvert_exporter": "python",
   "pygments_lexer": "ipython3",
   "version": "3.8.5"
  }
 },
 "nbformat": 4,
 "nbformat_minor": 4
}
