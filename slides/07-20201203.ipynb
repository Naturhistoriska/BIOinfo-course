{
 "cells": [
  {
   "cell_type": "markdown",
   "metadata": {
    "slideshow": {
     "slide_type": "slide"
    }
   },
   "source": [
    "# Chapter 6 - Scientific Computing (Python)\n",
    "\n",
    "### Unleash the Power of Python using Libraries!"
   ]
  },
  {
   "cell_type": "markdown",
   "metadata": {
    "slideshow": {
     "slide_type": "slide"
    }
   },
   "source": [
    "# Today\n",
    "- Recap\n",
    "- How did you manage with Chapter 6?\n",
    "- What was difficult?\n",
    "- How did you solve the exercises?"
   ]
  },
  {
   "cell_type": "markdown",
   "metadata": {
    "slideshow": {
     "slide_type": "slide"
    }
   },
   "source": [
    "# NumPy, SciPy, Matplotlib, etc\n",
    "\n",
    "Core python have basic **data types**:\n",
    "\n",
    "- Text Type: `str`\n",
    "- Numeric Types: `int`, `float`, `complex`\n",
    "- Sequence Types: `list`, `tuple`, `range`\n",
    "- Mapping Type: `dict`\n",
    "- Set Types: `set`, `frozenset`\n",
    "- Boolean Type: `bool`\n",
    "- Binary Types: `bytes`, `bytearray`, `memoryview`\n",
    "\n",
    "The language is extended (new data types introduced) by **libraries** (or \"packages\")"
   ]
  },
  {
   "cell_type": "markdown",
   "metadata": {
    "slideshow": {
     "slide_type": "slide"
    }
   },
   "source": [
    "## NumPy\n",
    "\n",
    "Introduces the new data type: `Array`\n",
    "\n",
    "**List**: A list in Python is a collection of items which can contain elements of multiple data types.\n",
    "\n",
    "**Array**: An array is a vector containing homogeneous elements i.e. belonging to the same data type.\n",
    "\n",
    "In addition, the kind of operations you can do on lists and arrays are different.\n"
   ]
  },
  {
   "cell_type": "markdown",
   "metadata": {
    "slideshow": {
     "slide_type": "slide"
    }
   },
   "source": [
    "## NumPy\n",
    "\n",
    "In addition, the kind of operations you can do on lists and arrays are different (see p. 186)"
   ]
  },
  {
   "cell_type": "code",
   "execution_count": 106,
   "metadata": {
    "slideshow": {
     "slide_type": "fragment"
    }
   },
   "outputs": [
    {
     "data": {
      "text/plain": [
       "[1, 2, 3, 4]"
      ]
     },
     "execution_count": 106,
     "metadata": {},
     "output_type": "execute_result"
    }
   ],
   "source": [
    "a_list = [1, 2, 3]\n",
    "a_list + [4]"
   ]
  },
  {
   "cell_type": "code",
   "execution_count": 107,
   "metadata": {
    "slideshow": {
     "slide_type": "slide"
    }
   },
   "outputs": [
    {
     "data": {
      "text/plain": [
       "array([5, 6, 7])"
      ]
     },
     "execution_count": 107,
     "metadata": {},
     "output_type": "execute_result"
    }
   ],
   "source": [
    "import numpy as np\n",
    "an_array = np.array([1, 2, 3])\n",
    "an_array + [4]"
   ]
  },
  {
   "cell_type": "code",
   "execution_count": 108,
   "metadata": {
    "slideshow": {
     "slide_type": "skip"
    }
   },
   "outputs": [
    {
     "name": "stdout",
     "output_type": "stream",
     "text": [
      "/home/nylander/Documents/Projects/GIT/BIOinfo-course/slides\n"
     ]
    }
   ],
   "source": [
    "import matplotlib\n",
    "%matplotlib inline\n",
    "%cd /home/nylander/Documents/Projects/GIT/BIOinfo-course/slides"
   ]
  },
  {
   "cell_type": "code",
   "execution_count": null,
   "metadata": {
    "slideshow": {
     "slide_type": "skip"
    }
   },
   "outputs": [],
   "source": [
    "import numpy as np\n",
    "import skimage.io as io\n",
    "image = io.imread(\"../CSB/scientific/data/Kacsoh2013_Drosobrain.png\")\n",
    "io.imshow(image)"
   ]
  },
  {
   "cell_type": "code",
   "execution_count": null,
   "metadata": {
    "slideshow": {
     "slide_type": "skip"
    }
   },
   "outputs": [],
   "source": [
    "red = image[:,:,0]\n",
    "green = image[:,:,1]\n",
    "img_copy = image.copy()\n",
    "img_copy[:, 480:500, 0] = 100\n",
    "threshold = 100\n",
    "mask = red > threshold\n",
    "io.imshow(mask)"
   ]
  },
  {
   "cell_type": "code",
   "execution_count": null,
   "metadata": {
    "slideshow": {
     "slide_type": "skip"
    }
   },
   "outputs": [],
   "source": [
    "mask2 = red * (red > threshold)\n",
    "io.imshow(mask2)"
   ]
  },
  {
   "cell_type": "code",
   "execution_count": 159,
   "metadata": {
    "slideshow": {
     "slide_type": "slide"
    }
   },
   "outputs": [
    {
     "data": {
      "image/png": "[encoded data removed]",
      "text/plain": [
       "<Figure size 432x288 with 1 Axes>"
      ]
     },
     "metadata": {
      "needs_background": "light"
     },
     "output_type": "display_data"
    }
   ],
   "source": [
    "import numpy as np\n",
    "import matplotlib.pyplot as plt\n",
    "import scipy\n",
    "import scipy.integrate\n",
    "\n",
    "def Gompertz(x, t, alpha, K):\n",
    "    dxdt = x * alpha * np.log(K / x)\n",
    "    return dxdt\n",
    "\n",
    "x0 = 0.1\n",
    "alpha = 1 / 2\n",
    "K = 5\n",
    "ts = np.arange(0, 10, 0.05)\n",
    "y = scipy.integrate.odeint(Gompertz, x0, ts, args = (alpha, K))\n",
    "\n",
    "plt.plot(ts, y[:,0])\n",
    "plt.xlabel(\"Time\")\n",
    "plt.ylabel(\"x(t)\")\n",
    "plt.show()"
   ]
  },
  {
   "cell_type": "markdown",
   "metadata": {
    "slideshow": {
     "slide_type": "skip"
    }
   },
   "source": [
    "## Intermezzo 6.1b"
   ]
  },
  {
   "cell_type": "code",
   "execution_count": null,
   "metadata": {
    "slideshow": {
     "slide_type": "skip"
    }
   },
   "outputs": [],
   "source": [
    "import numpy as np\n",
    "import scipy.integrate\n",
    "\n",
    "def fitness(x, A):\n",
    "    \"\"\"\n",
    "    compute the fitness of all types\n",
    "    given payoff matrix A\n",
    "    and proportions x\n",
    "    (with x[1] + x[2] + ... + x[n] = 1)\n",
    "    \"\"\"\n",
    "    return(np.dot(A, x))\n",
    "\n",
    "def replicator(x, t, A):\n",
    "    \"\"\"\n",
    "    replicator dynamics\n",
    "    for linear fitness\n",
    "    d xi / dt = xi ((A x)i - x^t A x)\n",
    "    \"\"\"\n",
    "    fi = fitness(x, A)\n",
    "    phi = sum(x0 * fi)\n",
    "    return(x * (fi - phi))\n",
    "\n",
    "A = np.reshape([0, 1, -1,\n",
    "               -1, 0, 1,\n",
    "                1, -1, 0], (3, 3))\n",
    "\n",
    "t = np.linspace(0,100,1000)\n",
    "\n",
    "x0 = np.array([1/4, 1/4, 1/2])\n",
    "\n",
    "x = scipy.integrate.odeint(replicator, x0, t, args = (A,))\n",
    "\n",
    "get_ipython().magic(u\"matplotlib inline\")\n",
    "\n",
    "import matplotlib.pyplot as plt\n",
    "plt.plot(t, x[:, 0], label = \"x1\")\n",
    "plt.plot(t, x[:, 1], label = \"x2\")\n",
    "plt.plot(t, x[:, 2], label = \"x3\")\n",
    "plt.legend(loc = \"best\")\n",
    "plt.xlabel(\"t\")\n",
    "plt.grid()\n",
    "plt.show()"
   ]
  },
  {
   "cell_type": "markdown",
   "metadata": {
    "slideshow": {
     "slide_type": "slide"
    }
   },
   "source": [
    "# Pandas (p. 202)\n",
    "\n",
    "Introduces two **new data structures**\n",
    "\n",
    "- `Series` - a one-dimensional labeled array capable of holding data of any type\n",
    "\n",
    "- `DataFrame` - intuitively, \"a spreadsheet\""
   ]
  },
  {
   "cell_type": "code",
   "execution_count": 162,
   "metadata": {
    "slideshow": {
     "slide_type": "skip"
    }
   },
   "outputs": [
    {
     "name": "stdout",
     "output_type": "stream",
     "text": [
      "/home/nylander/Documents/Projects/GIT/BIOinfo-course/slides\n"
     ]
    }
   ],
   "source": [
    "%cd /home/nylander/Documents/Projects/GIT/BIOinfo-course/slides"
   ]
  },
  {
   "cell_type": "markdown",
   "metadata": {
    "slideshow": {
     "slide_type": "slide"
    }
   },
   "source": [
    "### Subsetting (R-like syntax) (p. 205)"
   ]
  },
  {
   "cell_type": "code",
   "execution_count": 163,
   "metadata": {
    "slideshow": {
     "slide_type": "fragment"
    }
   },
   "outputs": [],
   "source": [
    "import pandas\n",
    "import numpy as np\n",
    "\n",
    "data = pandas.read_csv(\"../CSB/scientific/data/Dale2015_data.csv\")"
   ]
  },
  {
   "cell_type": "code",
   "execution_count": 164,
   "metadata": {
    "slideshow": {
     "slide_type": "slide"
    }
   },
   "outputs": [
    {
     "data": {
      "text/plain": [
       "0       51.944444\n",
       "1       47.777778\n",
       "2       43.611111\n",
       "3       39.166667\n",
       "4       54.166667\n",
       "          ...    \n",
       "5826    47.500000\n",
       "5827    52.500000\n",
       "5828    48.055556\n",
       "5829    45.416667\n",
       "5830    47.500000\n",
       "Name: Male_plumage_score, Length: 5831, dtype: float64"
      ]
     },
     "execution_count": 164,
     "metadata": {},
     "output_type": "execute_result"
    }
   ],
   "source": [
    "data[\"Male_plumage_score\"]"
   ]
  },
  {
   "cell_type": "code",
   "execution_count": 165,
   "metadata": {
    "slideshow": {
     "slide_type": "slide"
    }
   },
   "outputs": [
    {
     "data": {
      "text/plain": [
       "0       False\n",
       "1       False\n",
       "2       False\n",
       "3       False\n",
       "4       False\n",
       "        ...  \n",
       "5826    False\n",
       "5827    False\n",
       "5828    False\n",
       "5829    False\n",
       "5830    False\n",
       "Name: Male_plumage_score, Length: 5831, dtype: bool"
      ]
     },
     "execution_count": 165,
     "metadata": {},
     "output_type": "execute_result"
    }
   ],
   "source": [
    "data[\"Male_plumage_score\"] > 65"
   ]
  },
  {
   "cell_type": "code",
   "execution_count": 166,
   "metadata": {
    "slideshow": {
     "slide_type": "slide"
    }
   },
   "outputs": [
    {
     "data": {
      "text/html": [
       "<div>\n",
       "<style scoped>\n",
       "    .dataframe tbody tr th:only-of-type {\n",
       "        vertical-align: middle;\n",
       "    }\n",
       "\n",
       "    .dataframe tbody tr th {\n",
       "        vertical-align: top;\n",
       "    }\n",
       "\n",
       "    .dataframe thead th {\n",
       "        text-align: right;\n",
       "    }\n",
       "</style>\n",
       "<table border=\"1\" class=\"dataframe\">\n",
       "  <thead>\n",
       "    <tr style=\"text-align: right;\">\n",
       "      <th></th>\n",
       "      <th>Scientific_name</th>\n",
       "      <th>English_name</th>\n",
       "      <th>TipLabel</th>\n",
       "      <th>Female_plumage_score</th>\n",
       "      <th>Male_plumage_score</th>\n",
       "    </tr>\n",
       "  </thead>\n",
       "  <tbody>\n",
       "    <tr>\n",
       "      <th>94</th>\n",
       "      <td>Aethopyga mystacalis</td>\n",
       "      <td>Scarlet Sunbird</td>\n",
       "      <td>Aethopyga_mystacalis</td>\n",
       "      <td>36.527778</td>\n",
       "      <td>66.111111</td>\n",
       "    </tr>\n",
       "    <tr>\n",
       "      <th>102</th>\n",
       "      <td>Agelaius assimilis</td>\n",
       "      <td>Red-shouldered Blackbird</td>\n",
       "      <td>Agelaius_assimilis</td>\n",
       "      <td>62.083333</td>\n",
       "      <td>65.833333</td>\n",
       "    </tr>\n",
       "    <tr>\n",
       "      <th>105</th>\n",
       "      <td>Agelaius tricolor</td>\n",
       "      <td>Tricoloured Blackbird</td>\n",
       "      <td>Agelaius_tricolor</td>\n",
       "      <td>50.416667</td>\n",
       "      <td>66.111111</td>\n",
       "    </tr>\n",
       "    <tr>\n",
       "      <th>108</th>\n",
       "      <td>Agelasticus thilius</td>\n",
       "      <td>Yellow-winged Blackbird</td>\n",
       "      <td>Agelasticus_thilius</td>\n",
       "      <td>42.777778</td>\n",
       "      <td>65.138889</td>\n",
       "    </tr>\n",
       "    <tr>\n",
       "      <th>184</th>\n",
       "      <td>Amaurospiza carrizalensis</td>\n",
       "      <td>Carrizal Seedeater</td>\n",
       "      <td>Amaurospiza_carrizalensis</td>\n",
       "      <td>38.611111</td>\n",
       "      <td>65.694444</td>\n",
       "    </tr>\n",
       "    <tr>\n",
       "      <th>...</th>\n",
       "      <td>...</td>\n",
       "      <td>...</td>\n",
       "      <td>...</td>\n",
       "      <td>...</td>\n",
       "      <td>...</td>\n",
       "    </tr>\n",
       "    <tr>\n",
       "      <th>5587</th>\n",
       "      <td>Vidua raricola</td>\n",
       "      <td>Jambandu Indigobird</td>\n",
       "      <td>Vidua_raricola</td>\n",
       "      <td>43.055556</td>\n",
       "      <td>65.416667</td>\n",
       "    </tr>\n",
       "    <tr>\n",
       "      <th>5590</th>\n",
       "      <td>Vidua wilsoni</td>\n",
       "      <td>Pale-winged Indigobird</td>\n",
       "      <td>Vidua_wilsoni</td>\n",
       "      <td>48.333333</td>\n",
       "      <td>65.138889</td>\n",
       "    </tr>\n",
       "    <tr>\n",
       "      <th>5645</th>\n",
       "      <td>Xenodacnis parina</td>\n",
       "      <td>Tit-like Dacnis</td>\n",
       "      <td>Xenodacnis_parina</td>\n",
       "      <td>47.777778</td>\n",
       "      <td>65.555556</td>\n",
       "    </tr>\n",
       "    <tr>\n",
       "      <th>5647</th>\n",
       "      <td>Xenopipo atronitens</td>\n",
       "      <td>Black Manakin</td>\n",
       "      <td>Xenopipo_atronitens</td>\n",
       "      <td>37.638889</td>\n",
       "      <td>66.805556</td>\n",
       "    </tr>\n",
       "    <tr>\n",
       "      <th>5650</th>\n",
       "      <td>Xenopipo unicolor</td>\n",
       "      <td>Jet Manakin</td>\n",
       "      <td>Xenopipo_unicolor</td>\n",
       "      <td>43.055556</td>\n",
       "      <td>68.333333</td>\n",
       "    </tr>\n",
       "  </tbody>\n",
       "</table>\n",
       "<p>353 rows × 5 columns</p>\n",
       "</div>"
      ],
      "text/plain": [
       "                Scientific_name              English_name  \\\n",
       "94         Aethopyga mystacalis           Scarlet Sunbird   \n",
       "102          Agelaius assimilis  Red-shouldered Blackbird   \n",
       "105           Agelaius tricolor     Tricoloured Blackbird   \n",
       "108         Agelasticus thilius   Yellow-winged Blackbird   \n",
       "184   Amaurospiza carrizalensis        Carrizal Seedeater   \n",
       "...                         ...                       ...   \n",
       "5587             Vidua raricola       Jambandu Indigobird   \n",
       "5590              Vidua wilsoni    Pale-winged Indigobird   \n",
       "5645          Xenodacnis parina           Tit-like Dacnis   \n",
       "5647        Xenopipo atronitens             Black Manakin   \n",
       "5650          Xenopipo unicolor               Jet Manakin   \n",
       "\n",
       "                       TipLabel  Female_plumage_score  Male_plumage_score  \n",
       "94         Aethopyga_mystacalis             36.527778           66.111111  \n",
       "102          Agelaius_assimilis             62.083333           65.833333  \n",
       "105           Agelaius_tricolor             50.416667           66.111111  \n",
       "108         Agelasticus_thilius             42.777778           65.138889  \n",
       "184   Amaurospiza_carrizalensis             38.611111           65.694444  \n",
       "...                         ...                   ...                 ...  \n",
       "5587             Vidua_raricola             43.055556           65.416667  \n",
       "5590              Vidua_wilsoni             48.333333           65.138889  \n",
       "5645          Xenodacnis_parina             47.777778           65.555556  \n",
       "5647        Xenopipo_atronitens             37.638889           66.805556  \n",
       "5650          Xenopipo_unicolor             43.055556           68.333333  \n",
       "\n",
       "[353 rows x 5 columns]"
      ]
     },
     "execution_count": 166,
     "metadata": {},
     "output_type": "execute_result"
    }
   ],
   "source": [
    "data[data[\"Male_plumage_score\"] > 65]"
   ]
  },
  {
   "cell_type": "markdown",
   "metadata": {
    "slideshow": {
     "slide_type": "slide"
    }
   },
   "source": [
    "#### Slice with a list (p. 207)"
   ]
  },
  {
   "cell_type": "code",
   "execution_count": 167,
   "metadata": {
    "slideshow": {
     "slide_type": "fragment"
    }
   },
   "outputs": [
    {
     "data": {
      "text/plain": [
       "['Male_plumage_score']"
      ]
     },
     "execution_count": 167,
     "metadata": {},
     "output_type": "execute_result"
    }
   ],
   "source": [
    "[\"Male_plumage_score\"] # List object"
   ]
  },
  {
   "cell_type": "code",
   "execution_count": 114,
   "metadata": {
    "slideshow": {
     "slide_type": "fragment"
    }
   },
   "outputs": [
    {
     "data": {
      "text/plain": [
       "['Male_plumage_score', 'Female_plumage_score']"
      ]
     },
     "execution_count": 114,
     "metadata": {},
     "output_type": "execute_result"
    }
   ],
   "source": [
    "[\"Male_plumage_score\",\"Female_plumage_score\"] # List object"
   ]
  },
  {
   "cell_type": "code",
   "execution_count": 115,
   "metadata": {
    "slideshow": {
     "slide_type": "slide"
    }
   },
   "outputs": [
    {
     "data": {
      "text/plain": [
       "0       51.944444\n",
       "1       47.777778\n",
       "2       43.611111\n",
       "3       39.166667\n",
       "4       54.166667\n",
       "          ...    \n",
       "5826    47.500000\n",
       "5827    52.500000\n",
       "5828    48.055556\n",
       "5829    45.416667\n",
       "5830    47.500000\n",
       "Name: Male_plumage_score, Length: 5831, dtype: float64"
      ]
     },
     "execution_count": 115,
     "metadata": {},
     "output_type": "execute_result"
    }
   ],
   "source": [
    "data[\"Male_plumage_score\"] # Returns a Series object"
   ]
  },
  {
   "cell_type": "code",
   "execution_count": 116,
   "metadata": {
    "slideshow": {
     "slide_type": "slide"
    }
   },
   "outputs": [
    {
     "data": {
      "text/html": [
       "<div>\n",
       "<style scoped>\n",
       "    .dataframe tbody tr th:only-of-type {\n",
       "        vertical-align: middle;\n",
       "    }\n",
       "\n",
       "    .dataframe tbody tr th {\n",
       "        vertical-align: top;\n",
       "    }\n",
       "\n",
       "    .dataframe thead th {\n",
       "        text-align: right;\n",
       "    }\n",
       "</style>\n",
       "<table border=\"1\" class=\"dataframe\">\n",
       "  <thead>\n",
       "    <tr style=\"text-align: right;\">\n",
       "      <th></th>\n",
       "      <th>Male_plumage_score</th>\n",
       "    </tr>\n",
       "  </thead>\n",
       "  <tbody>\n",
       "    <tr>\n",
       "      <th>0</th>\n",
       "      <td>51.944444</td>\n",
       "    </tr>\n",
       "    <tr>\n",
       "      <th>1</th>\n",
       "      <td>47.777778</td>\n",
       "    </tr>\n",
       "    <tr>\n",
       "      <th>2</th>\n",
       "      <td>43.611111</td>\n",
       "    </tr>\n",
       "    <tr>\n",
       "      <th>3</th>\n",
       "      <td>39.166667</td>\n",
       "    </tr>\n",
       "    <tr>\n",
       "      <th>4</th>\n",
       "      <td>54.166667</td>\n",
       "    </tr>\n",
       "    <tr>\n",
       "      <th>...</th>\n",
       "      <td>...</td>\n",
       "    </tr>\n",
       "    <tr>\n",
       "      <th>5826</th>\n",
       "      <td>47.500000</td>\n",
       "    </tr>\n",
       "    <tr>\n",
       "      <th>5827</th>\n",
       "      <td>52.500000</td>\n",
       "    </tr>\n",
       "    <tr>\n",
       "      <th>5828</th>\n",
       "      <td>48.055556</td>\n",
       "    </tr>\n",
       "    <tr>\n",
       "      <th>5829</th>\n",
       "      <td>45.416667</td>\n",
       "    </tr>\n",
       "    <tr>\n",
       "      <th>5830</th>\n",
       "      <td>47.500000</td>\n",
       "    </tr>\n",
       "  </tbody>\n",
       "</table>\n",
       "<p>5831 rows × 1 columns</p>\n",
       "</div>"
      ],
      "text/plain": [
       "      Male_plumage_score\n",
       "0              51.944444\n",
       "1              47.777778\n",
       "2              43.611111\n",
       "3              39.166667\n",
       "4              54.166667\n",
       "...                  ...\n",
       "5826           47.500000\n",
       "5827           52.500000\n",
       "5828           48.055556\n",
       "5829           45.416667\n",
       "5830           47.500000\n",
       "\n",
       "[5831 rows x 1 columns]"
      ]
     },
     "execution_count": 116,
     "metadata": {},
     "output_type": "execute_result"
    }
   ],
   "source": [
    "data[[\"Male_plumage_score\"]] # Returns a DataFrame object"
   ]
  },
  {
   "cell_type": "code",
   "execution_count": 168,
   "metadata": {
    "slideshow": {
     "slide_type": "slide"
    }
   },
   "outputs": [
    {
     "data": {
      "text/html": [
       "<div>\n",
       "<style scoped>\n",
       "    .dataframe tbody tr th:only-of-type {\n",
       "        vertical-align: middle;\n",
       "    }\n",
       "\n",
       "    .dataframe tbody tr th {\n",
       "        vertical-align: top;\n",
       "    }\n",
       "\n",
       "    .dataframe thead th {\n",
       "        text-align: right;\n",
       "    }\n",
       "</style>\n",
       "<table border=\"1\" class=\"dataframe\">\n",
       "  <thead>\n",
       "    <tr style=\"text-align: right;\">\n",
       "      <th></th>\n",
       "      <th>Male_plumage_score</th>\n",
       "      <th>Female_plumage_score</th>\n",
       "    </tr>\n",
       "  </thead>\n",
       "  <tbody>\n",
       "    <tr>\n",
       "      <th>0</th>\n",
       "      <td>51.944444</td>\n",
       "      <td>45.833333</td>\n",
       "    </tr>\n",
       "    <tr>\n",
       "      <th>1</th>\n",
       "      <td>47.777778</td>\n",
       "      <td>48.888889</td>\n",
       "    </tr>\n",
       "    <tr>\n",
       "      <th>2</th>\n",
       "      <td>43.611111</td>\n",
       "      <td>43.194444</td>\n",
       "    </tr>\n",
       "    <tr>\n",
       "      <th>3</th>\n",
       "      <td>39.166667</td>\n",
       "      <td>39.305556</td>\n",
       "    </tr>\n",
       "    <tr>\n",
       "      <th>4</th>\n",
       "      <td>54.166667</td>\n",
       "      <td>40.555556</td>\n",
       "    </tr>\n",
       "    <tr>\n",
       "      <th>...</th>\n",
       "      <td>...</td>\n",
       "      <td>...</td>\n",
       "    </tr>\n",
       "    <tr>\n",
       "      <th>5826</th>\n",
       "      <td>47.500000</td>\n",
       "      <td>44.444444</td>\n",
       "    </tr>\n",
       "    <tr>\n",
       "      <th>5827</th>\n",
       "      <td>52.500000</td>\n",
       "      <td>47.916667</td>\n",
       "    </tr>\n",
       "    <tr>\n",
       "      <th>5828</th>\n",
       "      <td>48.055556</td>\n",
       "      <td>49.027778</td>\n",
       "    </tr>\n",
       "    <tr>\n",
       "      <th>5829</th>\n",
       "      <td>45.416667</td>\n",
       "      <td>49.583333</td>\n",
       "    </tr>\n",
       "    <tr>\n",
       "      <th>5830</th>\n",
       "      <td>47.500000</td>\n",
       "      <td>46.805556</td>\n",
       "    </tr>\n",
       "  </tbody>\n",
       "</table>\n",
       "<p>5831 rows × 2 columns</p>\n",
       "</div>"
      ],
      "text/plain": [
       "      Male_plumage_score  Female_plumage_score\n",
       "0              51.944444             45.833333\n",
       "1              47.777778             48.888889\n",
       "2              43.611111             43.194444\n",
       "3              39.166667             39.305556\n",
       "4              54.166667             40.555556\n",
       "...                  ...                   ...\n",
       "5826           47.500000             44.444444\n",
       "5827           52.500000             47.916667\n",
       "5828           48.055556             49.027778\n",
       "5829           45.416667             49.583333\n",
       "5830           47.500000             46.805556\n",
       "\n",
       "[5831 rows x 2 columns]"
      ]
     },
     "execution_count": 168,
     "metadata": {},
     "output_type": "execute_result"
    }
   ],
   "source": [
    "data[[\"Male_plumage_score\",\"Female_plumage_score\"]]"
   ]
  },
  {
   "cell_type": "markdown",
   "metadata": {
    "slideshow": {
     "slide_type": "slide"
    }
   },
   "source": [
    "## Two methods for boxplots provided by Pandas (p.207)\n",
    "\n",
    "See\n",
    "- <https://pandas.pydata.org/pandas-docs/stable/reference/api/pandas.DataFrame.plot.box.html>\n",
    "- <https://pandas.pydata.org/pandas-docs/stable/reference/api/pandas.DataFrame.boxplot.html>"
   ]
  },
  {
   "cell_type": "code",
   "execution_count": 118,
   "metadata": {
    "slideshow": {
     "slide_type": "slide"
    }
   },
   "outputs": [
    {
     "data": {
      "text/plain": [
       "<matplotlib.axes._subplots.AxesSubplot at 0x7f7d714bbc10>"
      ]
     },
     "execution_count": 118,
     "metadata": {},
     "output_type": "execute_result"
    },
    {
     "data": {
      "image/png": "[encoded data removed]",
      "text/plain": [
       "<Figure size 432x288 with 1 Axes>"
      ]
     },
     "metadata": {
      "needs_background": "light"
     },
     "output_type": "display_data"
    }
   ],
   "source": [
    "data[[\"Male_plumage_score\",\"Female_plumage_score\"]].plot.box()"
   ]
  },
  {
   "cell_type": "code",
   "execution_count": 119,
   "metadata": {
    "slideshow": {
     "slide_type": "slide"
    }
   },
   "outputs": [
    {
     "data": {
      "text/plain": [
       "<matplotlib.axes._subplots.AxesSubplot at 0x7f7d705c17f0>"
      ]
     },
     "execution_count": 119,
     "metadata": {},
     "output_type": "execute_result"
    },
    {
     "data": {
      "image/png": "[encoded data removed]",
      "text/plain": [
       "<Figure size 432x288 with 1 Axes>"
      ]
     },
     "metadata": {
      "needs_background": "light"
     },
     "output_type": "display_data"
    }
   ],
   "source": [
    "data[[\"Male_plumage_score\",\"Female_plumage_score\"]].boxplot()"
   ]
  },
  {
   "cell_type": "markdown",
   "metadata": {
    "slideshow": {
     "slide_type": "slide"
    }
   },
   "source": [
    "## \"Views\", not copies (p. 206)\n",
    "See <https://pandas.pydata.org/pandas-docs/stable/user_guide/indexing.html#returning-a-view-versus-a-copy>"
   ]
  },
  {
   "cell_type": "code",
   "execution_count": 120,
   "metadata": {
    "slideshow": {
     "slide_type": "slide"
    }
   },
   "outputs": [],
   "source": [
    "import pandas\n",
    "import numpy as np\n",
    "\n",
    "data = pandas.read_csv(\"../CSB/scientific/data/Dale2015_data.csv\")"
   ]
  },
  {
   "cell_type": "code",
   "execution_count": 121,
   "metadata": {
    "slideshow": {
     "slide_type": "slide"
    }
   },
   "outputs": [
    {
     "name": "stderr",
     "output_type": "stream",
     "text": [
      "<ipython-input-121-b51c7a771bdf>:3: SettingWithCopyWarning: \n",
      "A value is trying to be set on a copy of a slice from a DataFrame.\n",
      "Try using .loc[row_indexer,col_indexer] = value instead\n",
      "\n",
      "See the caveats in the documentation: http://pandas.pydata.org/pandas-docs/stable/user_guide/indexing.html#returning-a-view-versus-a-copy\n",
      "  high_male_score[\"Qualitative_score\"] = \"High\" # Error here\n"
     ]
    }
   ],
   "source": [
    "high_male_score = data[data[\"Male_plumage_score\"] > 65]\n",
    "\n",
    "high_male_score[\"Qualitative_score\"] = \"High\" # Error here"
   ]
  },
  {
   "cell_type": "code",
   "execution_count": 122,
   "metadata": {
    "slideshow": {
     "slide_type": "slide"
    }
   },
   "outputs": [
    {
     "data": {
      "text/html": [
       "<div>\n",
       "<style scoped>\n",
       "    .dataframe tbody tr th:only-of-type {\n",
       "        vertical-align: middle;\n",
       "    }\n",
       "\n",
       "    .dataframe tbody tr th {\n",
       "        vertical-align: top;\n",
       "    }\n",
       "\n",
       "    .dataframe thead th {\n",
       "        text-align: right;\n",
       "    }\n",
       "</style>\n",
       "<table border=\"1\" class=\"dataframe\">\n",
       "  <thead>\n",
       "    <tr style=\"text-align: right;\">\n",
       "      <th></th>\n",
       "      <th>Scientific_name</th>\n",
       "      <th>English_name</th>\n",
       "      <th>TipLabel</th>\n",
       "      <th>Female_plumage_score</th>\n",
       "      <th>Male_plumage_score</th>\n",
       "      <th>Qualitative_score</th>\n",
       "    </tr>\n",
       "  </thead>\n",
       "  <tbody>\n",
       "    <tr>\n",
       "      <th>94</th>\n",
       "      <td>Aethopyga mystacalis</td>\n",
       "      <td>Scarlet Sunbird</td>\n",
       "      <td>Aethopyga_mystacalis</td>\n",
       "      <td>36.527778</td>\n",
       "      <td>66.111111</td>\n",
       "      <td>High</td>\n",
       "    </tr>\n",
       "    <tr>\n",
       "      <th>102</th>\n",
       "      <td>Agelaius assimilis</td>\n",
       "      <td>Red-shouldered Blackbird</td>\n",
       "      <td>Agelaius_assimilis</td>\n",
       "      <td>62.083333</td>\n",
       "      <td>65.833333</td>\n",
       "      <td>High</td>\n",
       "    </tr>\n",
       "    <tr>\n",
       "      <th>105</th>\n",
       "      <td>Agelaius tricolor</td>\n",
       "      <td>Tricoloured Blackbird</td>\n",
       "      <td>Agelaius_tricolor</td>\n",
       "      <td>50.416667</td>\n",
       "      <td>66.111111</td>\n",
       "      <td>High</td>\n",
       "    </tr>\n",
       "    <tr>\n",
       "      <th>108</th>\n",
       "      <td>Agelasticus thilius</td>\n",
       "      <td>Yellow-winged Blackbird</td>\n",
       "      <td>Agelasticus_thilius</td>\n",
       "      <td>42.777778</td>\n",
       "      <td>65.138889</td>\n",
       "      <td>High</td>\n",
       "    </tr>\n",
       "    <tr>\n",
       "      <th>184</th>\n",
       "      <td>Amaurospiza carrizalensis</td>\n",
       "      <td>Carrizal Seedeater</td>\n",
       "      <td>Amaurospiza_carrizalensis</td>\n",
       "      <td>38.611111</td>\n",
       "      <td>65.694444</td>\n",
       "      <td>High</td>\n",
       "    </tr>\n",
       "  </tbody>\n",
       "</table>\n",
       "</div>"
      ],
      "text/plain": [
       "               Scientific_name              English_name  \\\n",
       "94        Aethopyga mystacalis           Scarlet Sunbird   \n",
       "102         Agelaius assimilis  Red-shouldered Blackbird   \n",
       "105          Agelaius tricolor     Tricoloured Blackbird   \n",
       "108        Agelasticus thilius   Yellow-winged Blackbird   \n",
       "184  Amaurospiza carrizalensis        Carrizal Seedeater   \n",
       "\n",
       "                      TipLabel  Female_plumage_score  Male_plumage_score  \\\n",
       "94        Aethopyga_mystacalis             36.527778           66.111111   \n",
       "102         Agelaius_assimilis             62.083333           65.833333   \n",
       "105          Agelaius_tricolor             50.416667           66.111111   \n",
       "108        Agelasticus_thilius             42.777778           65.138889   \n",
       "184  Amaurospiza_carrizalensis             38.611111           65.694444   \n",
       "\n",
       "    Qualitative_score  \n",
       "94               High  \n",
       "102              High  \n",
       "105              High  \n",
       "108              High  \n",
       "184              High  "
      ]
     },
     "execution_count": 122,
     "metadata": {},
     "output_type": "execute_result"
    }
   ],
   "source": [
    "high_male_score = data[data[\"Male_plumage_score\"] > 65].copy() # Use .copy() method here!\n",
    "\n",
    "high_male_score[\"Qualitative_score\"] = \"High\" # This should work!\n",
    "\n",
    "high_male_score.head()"
   ]
  },
  {
   "cell_type": "markdown",
   "metadata": {
    "slideshow": {
     "slide_type": "slide"
    }
   },
   "source": [
    "# BioPython (p. 208)"
   ]
  },
  {
   "cell_type": "markdown",
   "metadata": {
    "slideshow": {
     "slide_type": "slide"
    }
   },
   "source": [
    "### Search NCBI"
   ]
  },
  {
   "cell_type": "code",
   "execution_count": 134,
   "metadata": {
    "slideshow": {
     "slide_type": "fragment"
    }
   },
   "outputs": [],
   "source": [
    "from Bio import Entrez\n",
    "Entrez.email = \"bootstrap@linux.nu\"\n",
    "handle = Entrez.esearch(term = (\"Uropsilus investigator[Organism]\"), # Serch for. As tuple!\n",
    "                        db = \"nuccore\")                              # In which database\n",
    "record = Entrez.read(handle)\n",
    "id_list = record[\"IdList\"]"
   ]
  },
  {
   "cell_type": "markdown",
   "metadata": {
    "slideshow": {
     "slide_type": "slide"
    }
   },
   "source": [
    "### Fetch from NCBI"
   ]
  },
  {
   "cell_type": "code",
   "execution_count": 137,
   "metadata": {
    "slideshow": {
     "slide_type": "slide"
    }
   },
   "outputs": [],
   "source": [
    "outfile = \"/home/nylander/tmp/Uropsilus_seq.fasta\"\n",
    "handle = Entrez.efetch(id = id_list[:10], # Provide the list of IDs to be downloaded\n",
    "                       db = \"nuccore\",    # From which database\n",
    "                       rettype = \"fasta\", # Save in fasta format\n",
    "                       retmode = \"text\")\n",
    "out_handle = open(outfile, \"w\")\n",
    "for line in handle:\n",
    "    out_handle.write(line)\n",
    "out_handle.close()\n",
    "handle.close()\n",
    "\n",
    "# Here we need to manually close the file handles.\n",
    "# Compare the \"lazy\" way of handling file handles using `with` on p. 114"
   ]
  },
  {
   "cell_type": "markdown",
   "metadata": {
    "slideshow": {
     "slide_type": "slide"
    }
   },
   "source": [
    "## Reding a fasta file (p. 211)\n",
    "\n",
    "**Note**: My search on NCBI (above) did not retrieve any sequences with \"BMI1\" in the description.\n",
    "\n",
    "```python\n",
    "from Bio import SeqIO\n",
    "import re\n",
    "\n",
    "output_handle = open(\"Uropsilus_BMI1.fasta\", \"w\")\n",
    "for record in SeqIO.parse(\"Uropsilus_seq.fasta\", \"fasta\"):\n",
    "    # find BMI1 sequences\n",
    "    if re.search(\"BMI1\", record.description):\n",
    "        print(record.id)\n",
    "        # shorten sequence by Python slicing\n",
    "        short_seq = record[:100]\n",
    "        SeqIO.write(short_seq, output_handle, \"fasta\")\n",
    "output_handle.close()\n",
    "```"
   ]
  },
  {
   "cell_type": "markdown",
   "metadata": {
    "slideshow": {
     "slide_type": "slide"
    }
   },
   "source": [
    "### Alternative syntax for opening for reading and writing"
   ]
  },
  {
   "cell_type": "code",
   "execution_count": 144,
   "metadata": {
    "slideshow": {
     "slide_type": "slide"
    }
   },
   "outputs": [
    {
     "name": "stdout",
     "output_type": "stream",
     "text": [
      "bp: 16519\n"
     ]
    }
   ],
   "source": [
    "from Bio import SeqIO\n",
    "import re\n",
    "\n",
    "search_for = \"mitochondrion, complete genome\"\n",
    "\n",
    "infile = \"/home/nylander/tmp/Uropsilus_seq.fasta\"\n",
    "outfile = \"/home/nylander/tmp/Uropsilus_complete_mitochondrion.fasta\"\n",
    "\n",
    "informat = \"fasta\"\n",
    "outformat = informat\n",
    "\n",
    "with open(infile, \"r\") as infile_handle:\n",
    "    with open(outfile, \"w\") as outfile_handle:\n",
    "        for record in SeqIO.parse(infile_handle, informat):\n",
    "            if re.search(search_for, record.description):\n",
    "                print(\"bp:\", len(record))\n",
    "                SeqIO.write(record, outfile_handle, outformat)"
   ]
  },
  {
   "cell_type": "markdown",
   "metadata": {
    "slideshow": {
     "slide_type": "slide"
    }
   },
   "source": [
    "# Standalone BLAST\n",
    "\n",
    "1) Install blast software from NCBI\n",
    "\n",
    "2) Prepare a data base (fasta format)\n",
    "\n",
    "3) Format the data base for blast\n",
    "\n",
    "4) Run blast locally\n",
    "\n",
    "5) Parse the output"
   ]
  },
  {
   "cell_type": "markdown",
   "metadata": {
    "slideshow": {
     "slide_type": "slide"
    }
   },
   "source": [
    "### 1) Install blast software from NCBI\n",
    "\n",
    "For example, on Debian/Ubuntu:\n",
    "\n",
    "    sudo apt install ncbi-blast+\n",
    "    \n",
    "This will install several (~30) programs.\n",
    "\n",
    "See also:\n",
    "\n",
    "- <https://ftp.ncbi.nlm.nih.gov/blast/executables/blast+/LATEST/>\n",
    "\n",
    "- <https://blast.ncbi.nlm.nih.gov/Blast.cgi?PAGE_TYPE=BlastDocs&DOC_TYPE=Download>"
   ]
  },
  {
   "cell_type": "markdown",
   "metadata": {
    "slideshow": {
     "slide_type": "slide"
    }
   },
   "source": [
    "### 2) Prepare a data base (fasta format)\n",
    "\n",
    "Ready-made blast databases are available on NCBI (no need to run step 3)!\n",
    "See <https://ftp.ncbi.nlm.nih.gov/blast/db/README>\n",
    "\n",
    "Otherwise, prepare your own fasta file."
   ]
  },
  {
   "cell_type": "code",
   "execution_count": 145,
   "metadata": {
    "slideshow": {
     "slide_type": "fragment"
    }
   },
   "outputs": [
    {
     "name": "stderr",
     "output_type": "stream",
     "text": [
      "--2020-12-03 13:01:25--  https://gist.github.com/nylander/a044690c63494674d9b4fb30ba27762d/raw/db.fas\n",
      "Resolving gist.github.com (gist.github.com)... 140.82.121.4\n",
      "Connecting to gist.github.com (gist.github.com)|140.82.121.4|:443... connected.\n",
      "HTTP request sent, awaiting response... 301 Moved Permanently\n",
      "Location: https://gist.githubusercontent.com/nylander/a044690c63494674d9b4fb30ba27762d/raw/db.fas [following]\n",
      "--2020-12-03 13:01:26--  https://gist.githubusercontent.com/nylander/a044690c63494674d9b4fb30ba27762d/raw/db.fas\n",
      "Resolving gist.githubusercontent.com (gist.githubusercontent.com)... 151.101.84.133\n",
      "Connecting to gist.githubusercontent.com (gist.githubusercontent.com)|151.101.84.133|:443... connected.\n",
      "HTTP request sent, awaiting response... 200 OK\n",
      "Length: 257360 (251K) [text/plain]\n",
      "Saving to: ‘db.fas.1’\n",
      "\n",
      "     0K .......... .......... .......... .......... .......... 19% 11,1M 0s\n",
      "    50K .......... .......... .......... .......... .......... 39% 8,04M 0s\n",
      "   100K .......... .......... .......... .......... .......... 59% 9,94M 0s\n",
      "   150K .......... .......... .......... .......... .......... 79% 15,9M 0s\n",
      "   200K .......... .......... .......... .......... .......... 99% 20,2M 0s\n",
      "   250K .                                                     100% 2533G=0,02s\n",
      "\n",
      "2020-12-03 13:01:26 (11,8 MB/s) - ‘db.fas.1’ saved [257360/257360]\n",
      "\n",
      "--2020-12-03 13:01:26--  https://gist.github.com/nylander/a044690c63494674d9b4fb30ba27762d/raw/query.fas\n",
      "Resolving gist.github.com (gist.github.com)... 140.82.121.4\n",
      "Connecting to gist.github.com (gist.github.com)|140.82.121.4|:443... connected.\n",
      "HTTP request sent, awaiting response... 301 Moved Permanently\n",
      "Location: https://gist.githubusercontent.com/nylander/a044690c63494674d9b4fb30ba27762d/raw/query.fas [following]\n",
      "--2020-12-03 13:01:26--  https://gist.githubusercontent.com/nylander/a044690c63494674d9b4fb30ba27762d/raw/query.fas\n",
      "Resolving gist.githubusercontent.com (gist.githubusercontent.com)... 151.101.84.133\n",
      "Connecting to gist.githubusercontent.com (gist.githubusercontent.com)|151.101.84.133|:443... connected.\n",
      "HTTP request sent, awaiting response... 200 OK\n",
      "Length: 6880 (6,7K) [text/plain]\n",
      "Saving to: ‘query.fas.1’\n",
      "\n",
      "     0K ......                                                100% 25,7M=0s\n",
      "\n",
      "2020-12-03 13:01:27 (25,7 MB/s) - ‘query.fas.1’ saved [6880/6880]\n",
      "\n"
     ]
    }
   ],
   "source": [
    "%%bash\n",
    "\n",
    "mkdir -v -p $HOME/tmp/blast && cd $HOME/tmp/blast\n",
    "\n",
    "# Fetch a fasta file with amino-acid sequences\n",
    "wget \"https://gist.github.com/nylander/a044690c63494674d9b4fb30ba27762d/raw/db.fas\"\n",
    "\n",
    "# And fetch a query examplefile. Nucleotide sequences.\n",
    "wget \"https://gist.github.com/nylander/a044690c63494674d9b4fb30ba27762d/raw/query.fas\""
   ]
  },
  {
   "cell_type": "code",
   "execution_count": 146,
   "metadata": {
    "slideshow": {
     "slide_type": "skip"
    }
   },
   "outputs": [
    {
     "name": "stdout",
     "output_type": "stream",
     "text": [
      "/home/nylander/tmp/blast\n"
     ]
    }
   ],
   "source": [
    "%cd /home/nylander/tmp/blast"
   ]
  },
  {
   "cell_type": "markdown",
   "metadata": {
    "slideshow": {
     "slide_type": "slide"
    }
   },
   "source": [
    "### 3) Format the data base for blast\n",
    "\n",
    "Requires software `makeblastdb` (installed together with the blast programs).\n",
    "\n",
    "Note that the database sequences are amino acids (protein)."
   ]
  },
  {
   "cell_type": "code",
   "execution_count": 147,
   "metadata": {
    "slideshow": {
     "slide_type": "fragment"
    }
   },
   "outputs": [
    {
     "name": "stdout",
     "output_type": "stream",
     "text": [
      "\n",
      "\n",
      "Building a new DB, current time: 12/03/2020 13:01:50\n",
      "New DB name:   /home/nylander/tmp/blast/db\n",
      "New DB title:  db.fas\n",
      "Sequence type: Protein\n",
      "Deleted existing Protein BLAST database named /home/nylander/tmp/blast/db\n",
      "Keep MBits: T\n",
      "Maximum file size: 1000000000B\n",
      "Adding sequences from FASTA; added 500 sequences in 0.0294919 seconds.\n"
     ]
    }
   ],
   "source": [
    "%%bash\n",
    "\n",
    "makeblastdb -in db.fas -parse_seqids -dbtype prot -out db"
   ]
  },
  {
   "cell_type": "markdown",
   "metadata": {
    "slideshow": {
     "slide_type": "slide"
    }
   },
   "source": [
    "### 4) Run blast locally\n",
    "\n",
    "#### Alt. 1. Run from command line\n",
    "\n",
    "`outfmt 5` is the (deafault) XML format, `outfmt 6` and `outfmt 7` are customizable tab-separated formats (without or with comments, respectively)\n",
    "\n",
    "    blastx -db db -query query.fas -outfmt 5 -out blast_out.xml"
   ]
  },
  {
   "cell_type": "markdown",
   "metadata": {
    "slideshow": {
     "slide_type": "slide"
    }
   },
   "source": [
    "#### Alt. 2. Run from inside python"
   ]
  },
  {
   "cell_type": "code",
   "execution_count": 148,
   "metadata": {
    "slideshow": {
     "slide_type": "fragment"
    }
   },
   "outputs": [],
   "source": [
    "from Bio.Blast.Applications import NcbiblastxCommandline\n",
    "blastx_cline = NcbiblastxCommandline(query=\"query.fas\", db=\"db\", outfmt=5, out=\"blast_out.xml\")\n",
    "stdout, stderr = blastx_cline()"
   ]
  },
  {
   "cell_type": "code",
   "execution_count": null,
   "metadata": {
    "slideshow": {
     "slide_type": "fragment"
    }
   },
   "outputs": [],
   "source": [
    "from Bio.Blast.Applications import NcbiblastxCommandline\n",
    "# Use outfmt=6 for tab separated output without comments, and outfmt=7 with comments\n",
    "blastx_cline = NcbiblastxCommandline(query=\"query.fas\", db=\"db\", outfmt=6, out=\"blast_out.tsv\")\n",
    "stdout, stderr = blastx_cline()"
   ]
  },
  {
   "cell_type": "markdown",
   "metadata": {
    "slideshow": {
     "slide_type": "slide"
    }
   },
   "source": [
    "### 5) Parse the output\n",
    "\n",
    "#### Alt. 1. Use BioPython modules\n",
    "\n",
    "See <http://biopython.org/DIST/docs/tutorial/Tutorial.html#sec119>"
   ]
  },
  {
   "cell_type": "code",
   "execution_count": null,
   "metadata": {
    "slideshow": {
     "slide_type": "slide"
    }
   },
   "outputs": [],
   "source": [
    "from Bio.Blast import NCBIXML\n",
    "E_VALUE_THRESH = 1e-20\n",
    "for record in NCBIXML.parse(open(\"blast_out.xml\")):\n",
    "    if record.alignments:\n",
    "        print(\"\\n\")\n",
    "        print(\"QUERY: %s\" % record.query[:100])\n",
    "        for align in record.alignments:\n",
    "            for hsp in align.hsps:\n",
    "                if hsp.expect < E_VALUE_THRESH:\n",
    "                    print(\"MATCH title and E-value: %s %.1E\" % (align.title[:14], hsp.expect))"
   ]
  },
  {
   "cell_type": "markdown",
   "metadata": {
    "slideshow": {
     "slide_type": "slide"
    }
   },
   "source": [
    "### 5) Parse the output\n",
    "\n",
    "#### Alt. 2. Use Pandas"
   ]
  },
  {
   "cell_type": "code",
   "execution_count": null,
   "metadata": {
    "slideshow": {
     "slide_type": "slide"
    }
   },
   "outputs": [],
   "source": [
    "import pandas as pd\n",
    "from Bio import SearchIO\n",
    "\n",
    "# Convert from XML to tsv unless you did run blast with outfmt 6 or 7\n",
    "qresults = SearchIO.parse(\"blast_out.xml\", \"blast-xml\")\n",
    "SearchIO.write(qresults, \"blast_out.tsv\", \"blast-tab\")\n",
    "\n",
    "# Use header=None if blast was run with outfmt=6\n",
    "df = pd.read_table('blast_out.tsv', header=None)\n",
    "\n",
    "# Manually add the headers for the default outfmt=6 columns\n",
    "default_outfmt6_cols = 'qseqid sseqid pident length mismatch gapopen qstart qend sstart send evalue bitscore'.strip().split(' ')\n",
    "df.columns = default_outfmt6_cols\n",
    "\n",
    "# Do, e.g., some filtering for percent identity >= 99.0 and E-value <= 0.001\n",
    "df_filtered = df[(df['pident'] >= 99.0) & (df['evalue'] <= 0.001)]\n",
    "\n",
    "df_filtered\n"
   ]
  },
  {
   "cell_type": "markdown",
   "metadata": {
    "slideshow": {
     "slide_type": "slide"
    }
   },
   "source": [
    "# Exercises?"
   ]
  },
  {
   "cell_type": "markdown",
   "metadata": {
    "slideshow": {
     "slide_type": "slide"
    }
   },
   "source": [
    "# Assignment for next occasion (Dec 03, in two weeks)\n",
    "\n",
    "- Chapter 6. Scientific Computing (Python)\n",
    "- **Use the Slack channels (<https://bioinfo-course-2020.slack.com>)!**\n"
   ]
  }
 ],
 "metadata": {
  "kernelspec": {
   "display_name": "Python 3",
   "language": "python",
   "name": "python3"
  },
  "language_info": {
   "codemirror_mode": {
    "name": "ipython",
    "version": 3
   },
   "file_extension": ".py",
   "mimetype": "text/x-python",
   "name": "python",
   "nbconvert_exporter": "python",
   "pygments_lexer": "ipython3",
   "version": "3.8.5"
  }
 },
 "nbformat": 4,
 "nbformat_minor": 4
}
