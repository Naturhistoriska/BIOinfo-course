{
 "cells": [
  {
   "cell_type": "markdown",
   "metadata": {},
   "source": [
    "# BIOinfo-course 2020\n",
    "\n",
    "- Last modified: ons sep 11, 2020  18:04\n",
    "- Sign: JN\n",
    "\n",
    "## Description\n",
    "\n",
    "This is an example of a jupyter notebook for the literature course in [Bioinformatics for Biologists at NRM](https://github.com/Naturhistoriska/BIOinfo-course).\n",
    "\n",
    "This first section, or block, was written in **markdown**. This link will provide an overview of the basic syntax: [https://github.com/adam-p/markdown-here/wiki/Markdown-Cheatsheet](https://github.com/adam-p/markdown-here/wiki/Markdown-Cheatsheet)\n",
    "\n",
    "You add another block by pressing the `+` sign, then selecting what kind of content you will add from the drop down menu: Code, Markdown, or Raw.\n",
    "\n",
    "All notebooks will have a \"kernel\" that will execute the code. If the code is mainly written in Python, one chooses the Python 3 kernel (as for this notebook. Look in the upper-right corner in Jupyter).\n",
    "\n",
    "The blocks can then be run by the kernel by pressing the \"Play\" icon, and the kernel will treat each block according to your choice.\n",
    "\n",
    "The two blocks below show how to execute code.  Note that despite the fact that we are running the python 3 kernel, we can still ask for commands executed by the shell by prepending them with an exclamation mark (`!`).\n"
   ]
  },
  {
   "cell_type": "code",
   "execution_count": null,
   "metadata": {},
   "outputs": [],
   "source": [
    "!echo \"\\\"Hello World!\\\" says she shell\""
   ]
  },
  {
   "cell_type": "code",
   "execution_count": null,
   "metadata": {},
   "outputs": [],
   "source": [
    "print(\"\\\"Hello World!\\\" says Python\")"
   ]
  },
  {
   "cell_type": "raw",
   "metadata": {},
   "source": [
    "This last block has a \"Raw\" format. Special formatting such as **this**, and [that]() will not be interpreted by the kernel."
   ]
  }
 ],
 "metadata": {
  "kernelspec": {
   "display_name": "Python 3",
   "language": "python",
   "name": "python3"
  },
  "language_info": {
   "codemirror_mode": {
    "name": "ipython",
    "version": 3
   },
   "file_extension": ".py",
   "mimetype": "text/x-python",
   "name": "python",
   "nbconvert_exporter": "python",
   "pygments_lexer": "ipython3",
   "version": "3.8.5"
  }
 },
 "nbformat": 4,
 "nbformat_minor": 4
}
